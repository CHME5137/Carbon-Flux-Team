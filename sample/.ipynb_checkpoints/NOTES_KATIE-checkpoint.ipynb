{
 "cells": [
  {
   "cell_type": "markdown",
   "metadata": {},
   "source": [
    "## Below is the same code as Example_1_toymodel.py\n",
    "## It is broken out into a Jupyter Notebook "
   ]
  },
  {
   "cell_type": "code",
   "execution_count": 1,
   "metadata": {},
   "outputs": [],
   "source": [
    "import mfapy"
   ]
  },
  {
   "cell_type": "code",
   "execution_count": 2,
   "metadata": {},
   "outputs": [],
   "source": [
    "# Model construction\n",
    "reactions, reversible, metabolites, fragments\\\n",
    " = mfapy.mfapyio.load_metabolic_model(\"example_1_toymodel_model.txt\")\n",
    "model = mfapy.metabolicmodel.MetabolicModel(reactions, reversible,\\\n",
    " metabolites, fragments)"
   ]
  },
  {
   "cell_type": "code",
   "execution_count": 3,
   "metadata": {},
   "outputs": [
    {
     "data": {
      "text/plain": [
       "True"
      ]
     },
     "execution_count": 3,
     "metadata": {},
     "output_type": "execute_result"
    }
   ],
   "source": [
    "# Addition of constraints\n",
    "state = model.load_states(\"Example_1_toymodel_status.csv\", format = 'csv')\n",
    "model.set_constraints_from_state_dict(state)\n",
    "model.update()"
   ]
  },
  {
   "cell_type": "code",
   "execution_count": 4,
   "metadata": {},
   "outputs": [
    {
     "data": {
      "text/plain": [
       "True"
      ]
     },
     "execution_count": 4,
     "metadata": {},
     "output_type": "execute_result"
    }
   ],
   "source": [
    "# Generation of CarbonSource instance\n",
    "cs1 = model.generate_carbon_source_template()\n",
    "cs1.set_each_isotopomer('AcCoA', {'#10':0.5})\n",
    "cs2 = model.generate_carbon_source_template()\n",
    "cs2.set_each_isotopomer('AcCoA', {'#11':0.5})"
   ]
  },
  {
   "cell_type": "code",
   "execution_count": 5,
   "metadata": {},
   "outputs": [],
   "source": [
    "# Load MDV data\n",
    "mdv1 = model.load_mdv_data(\"Example_1_MDV1.txt\")\n",
    "mdv2 = model.load_mdv_data(\"Example_1_MDV2.txt\")"
   ]
  },
  {
   "cell_type": "code",
   "execution_count": 6,
   "metadata": {},
   "outputs": [
    {
     "data": {
      "text/plain": [
       "True"
      ]
     },
     "execution_count": 6,
     "metadata": {},
     "output_type": "execute_result"
    }
   ],
   "source": [
    "# Flux estimation Step 1: Setting experimments\n",
    "model.set_experiment('ex1', mdv1, cs1)\n",
    "model.set_experiment('ex2', mdv2, cs2)"
   ]
  },
  {
   "cell_type": "code",
   "execution_count": 7,
   "metadata": {},
   "outputs": [],
   "source": [
    "# Flux estimation step 2: Generation of intical flux vectors\n",
    "endstate, flux = model.generate_initial_states(50, 4, method =\"parallel\")"
   ]
  },
  {
   "cell_type": "code",
   "execution_count": 8,
   "metadata": {},
   "outputs": [
    {
     "name": "stdout",
     "output_type": "stream",
     "text": [
      "Id             Reaction                 External i   final\n",
      "RSS                                                   8.23\n",
      "Thres                                                15.51\n",
      "p_value                                               0.41\n",
      "Id             Reaction                 External i   final Type     Value Stdev    lb    ub Atom_mapping             \n",
      "v1             AcCoA+OAC-->Cit          (kegg:R003   100.0 fixed    100.0   1.0   0.0 300.0 AB+CDEF-->FEDBAC         \n",
      "v2             Cit-->AKG+CO2ex          (kegg:R007   100.0 free     100.0   1.0   0.0 300.0 ABCDEF-->ABCDE+F         \n",
      "v3             AKG-->Glu                (kegg:R002    49.7 free      50.0   1.0   0.0 300.0 ABCDE-->ABCDE            \n",
      "v4             AKG-->Suc+CO2ex          (kegg:R011    50.3 free      50.0   1.0   0.0 300.0 ABCDE-->BCDE+A           \n",
      "v5             Suc-->Fum                (kegg:R021    50.3 free      50.0   1.0   0.0 300.0 ABCD-->ABCD              \n",
      "v6             Fum-->OAC                (kegg:R010    69.7 free     125.0   1.0   0.0 300.0 ABCD-->ABCD              \n",
      "v7             OAC-->Fum                (kegg:R010    19.4 free      75.0   1.0   0.0 300.0 ABCD-->ABCD              \n",
      "v8             Asp-->OAC                (kegg:R003    49.7 free      50.0   1.0   0.0 300.0 ABCD-->ABCD              \n",
      "v9             Glu-->Gluex              (kegg:R002    49.7 free      50.0   1.0   0.0 300.0 nd                       \n",
      "FUM            v6<=>v7                  (kegg:R010    50.3 free      50.0   1.0   0.0 300.0                          \n",
      "Experiment     Fragment_N               Time         final     Use  Ratio Stdev\n",
      "ex1            GluMes_0                 0.00       -0.0000       1 0.0125  0.01\n",
      "ex1            GluMes_1                 0.00        0.7487       1 0.7334  0.01\n",
      "ex1            GluMes_2                 0.00        0.2513       1 0.2541  0.01\n",
      "ex1            GluMes_3                 0.00       -0.0000       1 0.0000  0.01\n",
      "ex1            GluMes_4                 0.00       -0.0000       1 0.0000  0.01\n",
      "ex1            GluMes_5                 0.00       -0.0000       1 0.0000  0.01\n",
      "ex2            GluMes_0                 0.00       -0.0000       1 0.0041  0.01\n",
      "ex2            GluMes_1                 0.00       -0.0000       1 0.0031  0.01\n",
      "ex2            GluMes_2                 0.00        0.4974       1 0.5041  0.01\n",
      "ex2            GluMes_3                 0.00        0.1250       1 0.1103  0.01\n",
      "ex2            GluMes_4                 0.00        0.2509       1 0.2595  0.01\n",
      "ex2            GluMes_5                 0.00        0.1267       1 0.1189  0.01\n",
      "\n"
     ]
    }
   ],
   "source": [
    "# Flux estimation step 3: Fitting model\n",
    "for method in [\"GN_CRS2_LM\", \"LN_PRAXIS\", \"SLSQP\"]:\n",
    "    endstate, RSS, flux = model.fitting_flux(method = method, flux = flux)\n",
    "model.show_results([(\"final\", flux[0])]) # Show result"
   ]
  },
  {
   "cell_type": "code",
   "execution_count": 9,
   "metadata": {},
   "outputs": [
    {
     "name": "stdout",
     "output_type": "stream",
     "text": [
      "v3 Lower bondary: 48.12866588886508 Upper boundary: 51.36828372802518\n"
     ]
    }
   ],
   "source": [
    "# Estimation of 95% CI\n",
    "ci_edge = model.generate_ci_template(targets = [('reaction', \"v3\")])\n",
    "ci = model.search_ci(ci_edge, flux[0], method = 'grid')\n",
    "lb = ci['data'][('reaction', \"v3\")]['lower_boundary']\n",
    "ub = ci['data'][('reaction', \"v3\")]['upper_boundary']\n",
    "print(\"v3\", \"Lower bondary:\",lb, \"Upper boundary:\", ub)\n"
   ]
  },
  {
   "cell_type": "code",
   "execution_count": null,
   "metadata": {},
   "outputs": [],
   "source": []
  }
 ],
 "metadata": {
  "kernelspec": {
   "display_name": "Python 3 (ipykernel)",
   "language": "python",
   "name": "python3"
  },
  "language_info": {
   "codemirror_mode": {
    "name": "ipython",
    "version": 3
   },
   "file_extension": ".py",
   "mimetype": "text/x-python",
   "name": "python",
   "nbconvert_exporter": "python",
   "pygments_lexer": "ipython3",
   "version": "3.7.4"
  }
 },
 "nbformat": 4,
 "nbformat_minor": 4
}
