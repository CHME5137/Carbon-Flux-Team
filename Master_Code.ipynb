{
 "cells": [
  {
   "cell_type": "code",
   "execution_count": 3,
   "metadata": {},
   "outputs": [],
   "source": [
    "import mfapy\n",
    "%matplotlib inline\n",
    "import numpy as np\n",
    "import scipy.integrate\n",
    "from matplotlib import pyplot as plt"
   ]
  },
  {
   "cell_type": "markdown",
   "metadata": {},
   "source": [
    "Outline for Master Code:\n",
    "- Introduction markdown cell -> introduce code and what exactly it does\n",
    "- Try some fancy markdown figures for model/model description\n",
    "- Input cells -> have user input raw data (MDV files)\n",
    "- Code to set up model and make necessary variables\n",
    "- Code to run mfapy and display flux data\n",
    "- Output in some graphs/tables\n",
    "- Add extra spice as needed :)"
   ]
  },
  {
   "cell_type": "code",
   "execution_count": 1,
   "metadata": {
    "scrolled": true
   },
   "outputs": [
    {
     "name": "stdout",
     "output_type": "stream",
     "text": [
      "Enter the name of the metabolic model .txt file: Metabolic.txt\n",
      "Enter the name of the .csv file containing the parameters: Metabolic.csv\n",
      "Enter the name of the MDV .txt file: MDV.txt\n"
     ]
    }
   ],
   "source": [
    "#Input Checklist:\n",
    "# - Simulation model .txt file --> defines reactions and metabolites\n",
    "# - Simulation .csv file --> code calls values from the cells of this file\n",
    "# - MDV data .txt file --> code calls values from this file to compute carbon fluxes\n",
    "\n",
    "# User input code goes here:\n",
    "\n",
    "simulation_model = input(\"Enter the name of the metabolic model .txt file: \")\n",
    "\n",
    "simulation_csv = input(\"Enter the name of the .csv file containing the parameters: \")\n",
    "\n",
    "MDV_data = input(\"Enter the name of the MDV .txt file: \")"
   ]
  },
  {
   "cell_type": "code",
   "execution_count": 2,
   "metadata": {},
   "outputs": [
    {
     "name": "stdout",
     "output_type": "stream",
     "text": [
      "MDV.txt\n"
     ]
    }
   ],
   "source": [
    "print(MDV_data)"
   ]
  },
  {
   "cell_type": "code",
   "execution_count": 5,
   "metadata": {
    "scrolled": true
   },
   "outputs": [
    {
     "ename": "FileNotFoundError",
     "evalue": "[Errno 2] No such file or directory: 'Hello'",
     "output_type": "error",
     "traceback": [
      "\u001b[1;31m---------------------------------------------------------------------------\u001b[0m",
      "\u001b[1;31mFileNotFoundError\u001b[0m                         Traceback (most recent call last)",
      "\u001b[1;32m<ipython-input-5-d45bdd7ae6af>\u001b[0m in \u001b[0;36m<module>\u001b[1;34m\u001b[0m\n\u001b[0;32m      2\u001b[0m \u001b[1;33m\u001b[0m\u001b[0m\n\u001b[0;32m      3\u001b[0m \u001b[1;31m#sets up model variables using simulation model.txt file\u001b[0m\u001b[1;33m\u001b[0m\u001b[1;33m\u001b[0m\u001b[1;33m\u001b[0m\u001b[0m\n\u001b[1;32m----> 4\u001b[1;33m \u001b[0mreactions\u001b[0m\u001b[1;33m,\u001b[0m \u001b[0mreversible\u001b[0m\u001b[1;33m,\u001b[0m \u001b[0mmetabolites\u001b[0m\u001b[1;33m,\u001b[0m \u001b[0mtarget_fragments\u001b[0m \u001b[1;33m=\u001b[0m \u001b[0mmfapy\u001b[0m\u001b[1;33m.\u001b[0m\u001b[0mmfapyio\u001b[0m\u001b[1;33m.\u001b[0m\u001b[0mload_metabolic_model\u001b[0m\u001b[1;33m(\u001b[0m\u001b[0msimulation_model\u001b[0m\u001b[1;33m,\u001b[0m \u001b[0mformat\u001b[0m \u001b[1;33m=\u001b[0m \u001b[1;34m\"text\"\u001b[0m\u001b[1;33m)\u001b[0m\u001b[1;33m\u001b[0m\u001b[1;33m\u001b[0m\u001b[0m\n\u001b[0m\u001b[0;32m      5\u001b[0m \u001b[0mmodel\u001b[0m \u001b[1;33m=\u001b[0m \u001b[0mmfapy\u001b[0m\u001b[1;33m.\u001b[0m\u001b[0mmetabolicmodel\u001b[0m\u001b[1;33m.\u001b[0m\u001b[0mMetabolicModel\u001b[0m\u001b[1;33m(\u001b[0m\u001b[0mreactions\u001b[0m\u001b[1;33m,\u001b[0m \u001b[0mreversible\u001b[0m\u001b[1;33m,\u001b[0m \u001b[0mmetabolites\u001b[0m\u001b[1;33m,\u001b[0m \u001b[0mtarget_fragments\u001b[0m\u001b[1;33m)\u001b[0m\u001b[1;33m\u001b[0m\u001b[1;33m\u001b[0m\u001b[0m\n\u001b[0;32m      6\u001b[0m \u001b[1;33m\u001b[0m\u001b[0m\n",
      "\u001b[1;32m~\\Documents\\GitHub\\Carbon-Flux-Team\\mfapy\\mfapyio.py\u001b[0m in \u001b[0;36mload_metabolic_model\u001b[1;34m(filename, format, mode)\u001b[0m\n\u001b[0;32m    496\u001b[0m     \"\"\"\n\u001b[0;32m    497\u001b[0m \u001b[1;33m\u001b[0m\u001b[0m\n\u001b[1;32m--> 498\u001b[1;33m     \u001b[0mreactions\u001b[0m \u001b[1;33m=\u001b[0m \u001b[0mload_metabolic_model_reactions\u001b[0m\u001b[1;33m(\u001b[0m\u001b[0mfilename\u001b[0m\u001b[1;33m,\u001b[0m \u001b[0mformat\u001b[0m\u001b[1;33m=\u001b[0m\u001b[0mformat\u001b[0m\u001b[1;33m,\u001b[0m \u001b[0mmode\u001b[0m \u001b[1;33m=\u001b[0m \u001b[0mmode\u001b[0m\u001b[1;33m)\u001b[0m\u001b[1;33m\u001b[0m\u001b[1;33m\u001b[0m\u001b[0m\n\u001b[0m\u001b[0;32m    499\u001b[0m     \u001b[0mmetabolites\u001b[0m \u001b[1;33m=\u001b[0m \u001b[0mload_metabolic_model_metabolites\u001b[0m\u001b[1;33m(\u001b[0m\u001b[0mfilename\u001b[0m\u001b[1;33m,\u001b[0m \u001b[0mformat\u001b[0m\u001b[1;33m=\u001b[0m\u001b[0mformat\u001b[0m\u001b[1;33m,\u001b[0m \u001b[0mmode\u001b[0m \u001b[1;33m=\u001b[0m \u001b[0mmode\u001b[0m\u001b[1;33m)\u001b[0m\u001b[1;33m\u001b[0m\u001b[1;33m\u001b[0m\u001b[0m\n\u001b[0;32m    500\u001b[0m     \u001b[0mreversible_reactions\u001b[0m \u001b[1;33m=\u001b[0m \u001b[0mload_metabolic_model_reversibles\u001b[0m\u001b[1;33m(\u001b[0m\u001b[0mfilename\u001b[0m\u001b[1;33m,\u001b[0m \u001b[0mformat\u001b[0m\u001b[1;33m=\u001b[0m\u001b[0mformat\u001b[0m \u001b[1;33m,\u001b[0m \u001b[0mmode\u001b[0m \u001b[1;33m=\u001b[0m \u001b[0mmode\u001b[0m\u001b[1;33m)\u001b[0m\u001b[1;33m\u001b[0m\u001b[1;33m\u001b[0m\u001b[0m\n",
      "\u001b[1;32m~\\Documents\\GitHub\\Carbon-Flux-Team\\mfapy\\mfapyio.py\u001b[0m in \u001b[0;36mload_metabolic_model_reactions\u001b[1;34m(filename, format, mode)\u001b[0m\n\u001b[0;32m     83\u001b[0m     \u001b[0mstatus\u001b[0m \u001b[1;33m=\u001b[0m \u001b[1;34m\"start\"\u001b[0m\u001b[1;33m\u001b[0m\u001b[1;33m\u001b[0m\u001b[0m\n\u001b[0;32m     84\u001b[0m \u001b[1;33m\u001b[0m\u001b[0m\n\u001b[1;32m---> 85\u001b[1;33m     \u001b[1;32mwith\u001b[0m \u001b[0mopen\u001b[0m\u001b[1;33m(\u001b[0m\u001b[0mfilename\u001b[0m\u001b[1;33m,\u001b[0m \u001b[1;34m'r'\u001b[0m\u001b[1;33m)\u001b[0m \u001b[1;32mas\u001b[0m \u001b[0mf\u001b[0m\u001b[1;33m:\u001b[0m\u001b[1;33m\u001b[0m\u001b[1;33m\u001b[0m\u001b[0m\n\u001b[0m\u001b[0;32m     86\u001b[0m         \u001b[1;32mif\u001b[0m \u001b[0mformat\u001b[0m \u001b[1;33m==\u001b[0m \u001b[1;34m\"text\"\u001b[0m\u001b[1;33m:\u001b[0m\u001b[1;33m\u001b[0m\u001b[1;33m\u001b[0m\u001b[0m\n\u001b[0;32m     87\u001b[0m             \u001b[0mreader\u001b[0m \u001b[1;33m=\u001b[0m \u001b[0mcsv\u001b[0m\u001b[1;33m.\u001b[0m\u001b[0mreader\u001b[0m\u001b[1;33m(\u001b[0m\u001b[0mf\u001b[0m\u001b[1;33m,\u001b[0m \u001b[0mdelimiter\u001b[0m\u001b[1;33m=\u001b[0m\u001b[1;34m'\\t'\u001b[0m\u001b[1;33m)\u001b[0m\u001b[1;33m\u001b[0m\u001b[1;33m\u001b[0m\u001b[0m\n",
      "\u001b[1;31mFileNotFoundError\u001b[0m: [Errno 2] No such file or directory: 'Hello'"
     ]
    }
   ],
   "source": [
    "#Dumping some set up code here from Explanation 1:\n",
    "\n",
    "#sets up model variables using simulation model.txt file\n",
    "reactions, reversible, metabolites, target_fragments = mfapy.mfapyio.load_metabolic_model(simulation_model, format = \"text\")\n",
    "model = mfapy.metabolicmodel.MetabolicModel(reactions, reversible, metabolites, target_fragments)\n",
    "\n",
    "#configurations -> investigate what these actually do and if we need to change them\n",
    "model.set_configuration(callbacklevel = 1) # Frequency level of callbacks from metabolic model\n",
    "model.set_configuration(iteration_max = 10000) # Maximal number of interations (steps) in each fitting task\n",
    "model.set_configuration(initial_search_repeats_in_grid_search = 5) # Number of initial metabolic flux disributions generated for each trial in grid search.\n",
    "model.set_configuration(initial_search_iteration_max = 1000) # Maximal number of interations (steps) allowed in each task to find feasible initial metabolic flux distribution.\n",
    "model.set_configuration(grid_search_iterations = 1) # Number of trials for model fitting at each point in grid search.\n",
    "model.set_configuration(number_of_repeat = 3) # Iteration in self.fitting_flux(method = 'deep') [SLSQP => LN_PRAXIS] * n\n",
    "model.set_configuration(ncpus = 2) # Number of CPUs for Parallel processing\n",
    "\n",
    "#loads states and values from .csv file\n",
    "flux = model.load_states(simulation_csv, format = 'csv')\n",
    "model.set_constraints_from_state_dict(flux)\n",
    "model.update()"
   ]
  },
  {
   "cell_type": "code",
   "execution_count": 8,
   "metadata": {},
   "outputs": [
    {
     "ename": "NameError",
     "evalue": "name 'model' is not defined",
     "output_type": "error",
     "traceback": [
      "\u001b[1;31m---------------------------------------------------------------------------\u001b[0m",
      "\u001b[1;31mNameError\u001b[0m                                 Traceback (most recent call last)",
      "\u001b[1;32m<ipython-input-8-79ee6ec5b76f>\u001b[0m in \u001b[0;36m<module>\u001b[1;34m\u001b[0m\n\u001b[0;32m      1\u001b[0m \u001b[1;31m# Generation of CarbonSource instance\u001b[0m\u001b[1;33m\u001b[0m\u001b[1;33m\u001b[0m\u001b[1;33m\u001b[0m\u001b[0m\n\u001b[1;32m----> 2\u001b[1;33m \u001b[0mcs1\u001b[0m \u001b[1;33m=\u001b[0m \u001b[0mmodel\u001b[0m\u001b[1;33m.\u001b[0m\u001b[0mgenerate_carbon_source_template\u001b[0m\u001b[1;33m(\u001b[0m\u001b[1;33m)\u001b[0m\u001b[1;33m\u001b[0m\u001b[1;33m\u001b[0m\u001b[0m\n\u001b[0m\u001b[0;32m      3\u001b[0m \u001b[0mcs1\u001b[0m\u001b[1;33m.\u001b[0m\u001b[0mset_each_isotopomer\u001b[0m\u001b[1;33m(\u001b[0m\u001b[1;34m'AcCoA'\u001b[0m\u001b[1;33m,\u001b[0m \u001b[1;33m{\u001b[0m\u001b[1;34m'#10'\u001b[0m\u001b[1;33m:\u001b[0m\u001b[1;36m0.5\u001b[0m\u001b[1;33m}\u001b[0m\u001b[1;33m)\u001b[0m\u001b[1;33m\u001b[0m\u001b[1;33m\u001b[0m\u001b[0m\n\u001b[0;32m      4\u001b[0m \u001b[0mcs2\u001b[0m \u001b[1;33m=\u001b[0m \u001b[0mmodel\u001b[0m\u001b[1;33m.\u001b[0m\u001b[0mgenerate_carbon_source_template\u001b[0m\u001b[1;33m(\u001b[0m\u001b[1;33m)\u001b[0m\u001b[1;33m\u001b[0m\u001b[1;33m\u001b[0m\u001b[0m\n\u001b[0;32m      5\u001b[0m \u001b[0mcs2\u001b[0m\u001b[1;33m.\u001b[0m\u001b[0mset_each_isotopomer\u001b[0m\u001b[1;33m(\u001b[0m\u001b[1;34m'AcCoA'\u001b[0m\u001b[1;33m,\u001b[0m \u001b[1;33m{\u001b[0m\u001b[1;34m'#11'\u001b[0m\u001b[1;33m:\u001b[0m\u001b[1;36m0.5\u001b[0m\u001b[1;33m}\u001b[0m\u001b[1;33m)\u001b[0m\u001b[1;33m\u001b[0m\u001b[1;33m\u001b[0m\u001b[0m\n",
      "\u001b[1;31mNameError\u001b[0m: name 'model' is not defined"
     ]
    }
   ],
   "source": [
    "# Generation of CarbonSource instance\n",
    "cs1 = model.generate_carbon_source_template()\n",
    "cs1.set_each_isotopomer('AcCoA', {'#10':0.5})\n",
    "cs2 = model.generate_carbon_source_template()\n",
    "cs2.set_each_isotopomer('AcCoA', {'#11':0.5})\n",
    "# What, if any, isotopomers do we need to set?"
   ]
  },
  {
   "cell_type": "code",
   "execution_count": null,
   "metadata": {},
   "outputs": [],
   "source": [
    "# Load MDV data\n",
    "mdv1 = model.load_mdv_data(MDV_data) #string variable from user input\n",
    "\n",
    "#include more if there are more data files"
   ]
  },
  {
   "cell_type": "code",
   "execution_count": null,
   "metadata": {},
   "outputs": [],
   "source": [
    "# Flux estimation Step 1: Setting experimments\n",
    "model.set_experiment('ex1', mdv1, cs1)\n",
    "#include more for more data sets"
   ]
  },
  {
   "cell_type": "code",
   "execution_count": null,
   "metadata": {},
   "outputs": [],
   "source": [
    "# Flux estimation step 2: Generation of intical flux vectors\n",
    "endstate, flux = model.generate_initial_states(50, 4, method =\"parallel\")\n"
   ]
  },
  {
   "cell_type": "code",
   "execution_count": null,
   "metadata": {},
   "outputs": [],
   "source": [
    "# Flux estimation step 3: Fitting model\n",
    "for method in [\"GN_CRS2_LM\", \"LN_PRAXIS\", \"SLSQP\"]:\n",
    "    endstate, RSS, flux = model.fitting_flux(method = method, flux = flux)\n",
    "model.show_results([(\"final\", flux[0])]) # Show result"
   ]
  },
  {
   "cell_type": "code",
   "execution_count": null,
   "metadata": {},
   "outputs": [],
   "source": [
    "# Estimation of 95% CI\n",
    "ci_edge = model.generate_ci_template(targets = [('reaction', \"v3\")])\n",
    "ci = model.search_ci(ci_edge, flux[0], method = 'grid')\n",
    "lb = ci['data'][('reaction', \"v3\")]['lower_boundary']\n",
    "ub = ci['data'][('reaction', \"v3\")]['upper_boundary']\n",
    "print(\"v3\", \"Lower bondary:\",lb, \"Upper boundary:\", ub)"
   ]
  },
  {
   "cell_type": "code",
   "execution_count": 3,
   "metadata": {},
   "outputs": [],
   "source": [
    "#Run mfapy code here:"
   ]
  },
  {
   "cell_type": "code",
   "execution_count": 4,
   "metadata": {},
   "outputs": [],
   "source": [
    "#Output data code goes here:\n",
    "\n",
    "  # Output fitted metabolic flux into CSV file\n",
    "    \n",
    "model.show_results(results, filename = \"Explanation_1_13CMFA_output.csv\",  checkrss = \"on\", format = \"csv\")\n",
    "    \n",
    "    # Output fitted metabolic flux in console\n",
    "    \n",
    "model.show_results(results,  checkrss = \"on\")\n",
    "    \n",
    "    # Output flux balance of given metabolite\n",
    "    \n",
    "model.show_flux_balance(results, \"Fum\")\n",
    "model.show_flux_balance(results, \"Fum\", filename = \"Explanation_1_13CMFA_metabolite_balance.csv\", format = \"csv\")"
   ]
  },
  {
   "cell_type": "code",
   "execution_count": null,
   "metadata": {},
   "outputs": [],
   "source": []
  }
 ],
 "metadata": {
  "kernelspec": {
   "display_name": "Python 3",
   "language": "python",
   "name": "python3"
  },
  "language_info": {
   "codemirror_mode": {
    "name": "ipython",
    "version": 3
   },
   "file_extension": ".py",
   "mimetype": "text/x-python",
   "name": "python",
   "nbconvert_exporter": "python",
   "pygments_lexer": "ipython3",
   "version": "3.8.5"
  }
 },
 "nbformat": 4,
 "nbformat_minor": 4
}
