{
 "cells": [
  {
   "cell_type": "code",
<<<<<<< HEAD
   "execution_count": 1,
=======
   "execution_count": 2,
>>>>>>> 3a9e556c4ac8f12f00695d40781dfe302ea85ba3
   "metadata": {},
   "outputs": [],
   "source": [
    "import mfapy\n",
    "%matplotlib inline\n",
    "import numpy as np\n",
    "import scipy.integrate\n",
    "from matplotlib import pyplot as plt"
   ]
  },
  {
   "cell_type": "markdown",
   "metadata": {},
   "source": [
    "Outline for Master Code:\n",
    "- Introduction markdown cell -> introduce code and what exactly it does\n",
    "- Try some fancy markdown figures for model/model description\n",
    "- Input cells -> have user input raw data (MDV files)\n",
    "- Code to set up model and make necessary variables\n",
    "- Code to run mfapy and display flux data\n",
    "- Output in some graphs/tables\n",
    "- Add extra spice as needed :)"
   ]
  },
  {
   "cell_type": "code",
   "execution_count": 2,
   "metadata": {
    "scrolled": true
   },
   "outputs": [
    {
     "name": "stdin",
     "output_type": "stream",
     "text": [
      "Enter the name of the metabolic model .txt file:  Elim_model.txt\n",
      "Enter the name of the .csv file containing the parameters:  Elim_status.csv\n",
      "Enter the name of the MDV .txt file:  MDV.txt\n"
     ]
    }
   ],
   "source": [
    "#Input Checklist:\n",
    "# - Simulation model .txt file --> defines reactions and metabolites\n",
    "# - Simulation .csv file --> code calls values from the cells of this file\n",
    "# - MDV data .txt file --> code calls values from this file to compute carbon fluxes\n",
    "\n",
    "# User input code goes here:\n",
    "\n",
    "simulation_model = input(\"Enter the name of the metabolic model .txt file: \")\n",
    "\n",
    "simulation_csv = input(\"Enter the name of the .csv file containing the parameters: \")\n",
    "\n",
    "MDV_data = input(\"Enter the name of the MDV .txt file: \")"
   ]
  },
  {
   "cell_type": "code",
   "execution_count": null,
   "metadata": {},
   "outputs": [],
   "source": [
    "print(MDV_data)"
   ]
  },
  {
   "cell_type": "code",
   "execution_count": 3,
   "metadata": {
    "scrolled": true
   },
   "outputs": [
    {
     "ename": "KeyError",
     "evalue": "4",
     "output_type": "error",
     "traceback": [
      "\u001b[0;31m---------------------------------------------------------------------------\u001b[0m",
      "\u001b[0;31mKeyError\u001b[0m                                  Traceback (most recent call last)",
      "\u001b[0;32m/var/folders/pl/bxvjdg6d64jb2cf2j605mxk80000gn/T/ipykernel_35341/1824727843.py\u001b[0m in \u001b[0;36m<module>\u001b[0;34m\u001b[0m\n\u001b[1;32m      3\u001b[0m \u001b[0;31m#sets up model variables using simulation model.txt file\u001b[0m\u001b[0;34m\u001b[0m\u001b[0;34m\u001b[0m\u001b[0;34m\u001b[0m\u001b[0m\n\u001b[1;32m      4\u001b[0m \u001b[0mreactions\u001b[0m\u001b[0;34m,\u001b[0m \u001b[0mreversible\u001b[0m\u001b[0;34m,\u001b[0m \u001b[0mmetabolites\u001b[0m\u001b[0;34m,\u001b[0m \u001b[0mtarget_fragments\u001b[0m \u001b[0;34m=\u001b[0m \u001b[0mmfapy\u001b[0m\u001b[0;34m.\u001b[0m\u001b[0mmfapyio\u001b[0m\u001b[0;34m.\u001b[0m\u001b[0mload_metabolic_model\u001b[0m\u001b[0;34m(\u001b[0m\u001b[0msimulation_model\u001b[0m\u001b[0;34m,\u001b[0m \u001b[0mformat\u001b[0m \u001b[0;34m=\u001b[0m \u001b[0;34m\"text\"\u001b[0m\u001b[0;34m)\u001b[0m\u001b[0;34m\u001b[0m\u001b[0;34m\u001b[0m\u001b[0m\n\u001b[0;32m----> 5\u001b[0;31m \u001b[0mmodel\u001b[0m \u001b[0;34m=\u001b[0m \u001b[0mmfapy\u001b[0m\u001b[0;34m.\u001b[0m\u001b[0mmetabolicmodel\u001b[0m\u001b[0;34m.\u001b[0m\u001b[0mMetabolicModel\u001b[0m\u001b[0;34m(\u001b[0m\u001b[0mreactions\u001b[0m\u001b[0;34m,\u001b[0m \u001b[0mreversible\u001b[0m\u001b[0;34m,\u001b[0m \u001b[0mmetabolites\u001b[0m\u001b[0;34m,\u001b[0m \u001b[0mtarget_fragments\u001b[0m\u001b[0;34m)\u001b[0m\u001b[0;34m\u001b[0m\u001b[0;34m\u001b[0m\u001b[0m\n\u001b[0m\u001b[1;32m      6\u001b[0m \u001b[0;34m\u001b[0m\u001b[0m\n\u001b[1;32m      7\u001b[0m \u001b[0;31m#configurations -> investigate what these actually do and if we need to change them\u001b[0m\u001b[0;34m\u001b[0m\u001b[0;34m\u001b[0m\u001b[0;34m\u001b[0m\u001b[0m\n",
      "\u001b[0;32m~/__Experiment_Data/Carbon-Flux-Team/mfapy/metabolicmodel.py\u001b[0m in \u001b[0;36m__init__\u001b[0;34m(self, reactions, reversible, metabolites, target_fragments, mode)\u001b[0m\n\u001b[1;32m    209\u001b[0m         \u001b[0;31m# Update the metabolic model to generate stoichiometry matrix\u001b[0m\u001b[0;34m\u001b[0m\u001b[0;34m\u001b[0m\u001b[0;34m\u001b[0m\u001b[0m\n\u001b[1;32m    210\u001b[0m         \u001b[0;31m#\u001b[0m\u001b[0;34m\u001b[0m\u001b[0;34m\u001b[0m\u001b[0;34m\u001b[0m\u001b[0m\n\u001b[0;32m--> 211\u001b[0;31m         \u001b[0mself\u001b[0m\u001b[0;34m.\u001b[0m\u001b[0mreconstruct\u001b[0m\u001b[0;34m(\u001b[0m\u001b[0;34m)\u001b[0m\u001b[0;34m\u001b[0m\u001b[0;34m\u001b[0m\u001b[0m\n\u001b[0m\u001b[1;32m    212\u001b[0m         \u001b[0;32mif\u001b[0m \u001b[0mmode\u001b[0m\u001b[0;34m==\u001b[0m\u001b[0;34m\"debug\"\u001b[0m\u001b[0;34m:\u001b[0m\u001b[0;34m\u001b[0m\u001b[0;34m\u001b[0m\u001b[0m\n\u001b[1;32m    213\u001b[0m             \u001b[0mself\u001b[0m\u001b[0;34m.\u001b[0m\u001b[0mconfiguration\u001b[0m\u001b[0;34m[\u001b[0m\u001b[0;34m\"callbacklevel\"\u001b[0m\u001b[0;34m]\u001b[0m \u001b[0;34m=\u001b[0m \u001b[0;36m1\u001b[0m\u001b[0;34m\u001b[0m\u001b[0;34m\u001b[0m\u001b[0m\n",
      "\u001b[0;32m~/__Experiment_Data/Carbon-Flux-Team/mfapy/metabolicmodel.py\u001b[0m in \u001b[0;36mreconstruct\u001b[0;34m(self, mode)\u001b[0m\n\u001b[1;32m   1123\u001b[0m \u001b[0;34m\u001b[0m\u001b[0m\n\u001b[1;32m   1124\u001b[0m         \u001b[0mself\u001b[0m\u001b[0;34m.\u001b[0m\u001b[0mupdate\u001b[0m\u001b[0;34m(\u001b[0m\u001b[0;34m)\u001b[0m\u001b[0;34m\u001b[0m\u001b[0;34m\u001b[0m\u001b[0m\n\u001b[0;32m-> 1125\u001b[0;31m         \u001b[0mcalmdv_text\u001b[0m\u001b[0;34m,\u001b[0m \u001b[0mccalmdv_text\u001b[0m \u001b[0;34m=\u001b[0m \u001b[0mself\u001b[0m\u001b[0;34m.\u001b[0m\u001b[0mgenerate_calmdv\u001b[0m\u001b[0;34m(\u001b[0m\u001b[0mmode\u001b[0m\u001b[0;34m)\u001b[0m\u001b[0;34m\u001b[0m\u001b[0;34m\u001b[0m\u001b[0m\n\u001b[0m\u001b[1;32m   1126\u001b[0m         \u001b[0mself\u001b[0m\u001b[0;34m.\u001b[0m\u001b[0mcalmdv_text\u001b[0m \u001b[0;34m=\u001b[0m \u001b[0mcalmdv_text\u001b[0m\u001b[0;34m\u001b[0m\u001b[0;34m\u001b[0m\u001b[0m\n\u001b[1;32m   1127\u001b[0m         \u001b[0;31m#\u001b[0m\u001b[0;34m\u001b[0m\u001b[0;34m\u001b[0m\u001b[0;34m\u001b[0m\u001b[0m\n",
      "\u001b[0;32m~/__Experiment_Data/Carbon-Flux-Team/mfapy/metabolicmodel.py\u001b[0m in \u001b[0;36mgenerate_calmdv\u001b[0;34m(self, mode)\u001b[0m\n\u001b[1;32m   1957\u001b[0m                     \u001b[0mcompound\u001b[0m \u001b[0;34m=\u001b[0m \u001b[0mcompound_of_EMU\u001b[0m\u001b[0;34m(\u001b[0m\u001b[0memu\u001b[0m\u001b[0;34m)\u001b[0m\u001b[0;34m\u001b[0m\u001b[0;34m\u001b[0m\u001b[0m\n\u001b[1;32m   1958\u001b[0m                     \u001b[0msize\u001b[0m \u001b[0;34m=\u001b[0m \u001b[0msize_of_EMU\u001b[0m\u001b[0;34m(\u001b[0m\u001b[0memu\u001b[0m\u001b[0;34m)\u001b[0m\u001b[0;34m;\u001b[0m\u001b[0;34m\u001b[0m\u001b[0;34m\u001b[0m\u001b[0m\n\u001b[0;32m-> 1959\u001b[0;31m                     \u001b[0mrow\u001b[0m \u001b[0;34m=\u001b[0m \u001b[0;34m[\u001b[0m\u001b[0;34m\"X_\"\u001b[0m\u001b[0;34m+\u001b[0m\u001b[0mstr\u001b[0m\u001b[0;34m(\u001b[0m\u001b[0msize\u001b[0m\u001b[0;34m)\u001b[0m\u001b[0;34m+\u001b[0m\u001b[0;34m\"[\"\u001b[0m\u001b[0;34m+\u001b[0m \u001b[0mstr\u001b[0m\u001b[0;34m(\u001b[0m\u001b[0memu_intermediate\u001b[0m\u001b[0;34m[\u001b[0m\u001b[0mint\u001b[0m\u001b[0;34m(\u001b[0m\u001b[0msize\u001b[0m\u001b[0;34m)\u001b[0m\u001b[0;34m]\u001b[0m\u001b[0;34m[\u001b[0m\u001b[0memu\u001b[0m\u001b[0;34m]\u001b[0m \u001b[0;34m*\u001b[0m \u001b[0;34m(\u001b[0m\u001b[0msize\u001b[0m \u001b[0;34m+\u001b[0m \u001b[0;36m1\u001b[0m\u001b[0;34m)\u001b[0m \u001b[0;34m+\u001b[0m \u001b[0mx\u001b[0m\u001b[0;34m)\u001b[0m \u001b[0;34m+\u001b[0m \u001b[0;34m\"]\"\u001b[0m\u001b[0;32mfor\u001b[0m \u001b[0mx\u001b[0m \u001b[0;32min\u001b[0m \u001b[0mrange\u001b[0m\u001b[0;34m(\u001b[0m\u001b[0msize\u001b[0m \u001b[0;34m+\u001b[0m \u001b[0;36m1\u001b[0m\u001b[0;34m)\u001b[0m\u001b[0;34m]\u001b[0m\u001b[0;34m\u001b[0m\u001b[0;34m\u001b[0m\u001b[0m\n\u001b[0m\u001b[1;32m   1960\u001b[0m                     \u001b[0mstring\u001b[0m \u001b[0;34m+=\u001b[0m \u001b[0;34m\"\\temu_list['\"\u001b[0m \u001b[0;34m+\u001b[0m \u001b[0mtarget_fragment\u001b[0m \u001b[0;34m+\u001b[0m\u001b[0;34m\"'] = [\"\u001b[0m \u001b[0;34m+\u001b[0m \u001b[0;34m','\u001b[0m\u001b[0;34m.\u001b[0m\u001b[0mjoin\u001b[0m\u001b[0;34m(\u001b[0m\u001b[0mrow\u001b[0m\u001b[0;34m)\u001b[0m \u001b[0;34m+\u001b[0m \u001b[0;34m\"]\\n\"\u001b[0m\u001b[0;34m\u001b[0m\u001b[0;34m\u001b[0m\u001b[0m\n\u001b[1;32m   1961\u001b[0m                     \u001b[0;32mif\u001b[0m \u001b[0mself\u001b[0m\u001b[0;34m.\u001b[0m\u001b[0mconfiguration\u001b[0m\u001b[0;34m[\u001b[0m\u001b[0;34m'add_naturalisotope_in_calmdv'\u001b[0m\u001b[0;34m]\u001b[0m \u001b[0;34m==\u001b[0m \u001b[0;34m\"yes\"\u001b[0m\u001b[0;34m:\u001b[0m\u001b[0;34m\u001b[0m\u001b[0;34m\u001b[0m\u001b[0m\n",
      "\u001b[0;32m~/__Experiment_Data/Carbon-Flux-Team/mfapy/metabolicmodel.py\u001b[0m in \u001b[0;36m<listcomp>\u001b[0;34m(.0)\u001b[0m\n\u001b[1;32m   1957\u001b[0m                     \u001b[0mcompound\u001b[0m \u001b[0;34m=\u001b[0m \u001b[0mcompound_of_EMU\u001b[0m\u001b[0;34m(\u001b[0m\u001b[0memu\u001b[0m\u001b[0;34m)\u001b[0m\u001b[0;34m\u001b[0m\u001b[0;34m\u001b[0m\u001b[0m\n\u001b[1;32m   1958\u001b[0m                     \u001b[0msize\u001b[0m \u001b[0;34m=\u001b[0m \u001b[0msize_of_EMU\u001b[0m\u001b[0;34m(\u001b[0m\u001b[0memu\u001b[0m\u001b[0;34m)\u001b[0m\u001b[0;34m;\u001b[0m\u001b[0;34m\u001b[0m\u001b[0;34m\u001b[0m\u001b[0m\n\u001b[0;32m-> 1959\u001b[0;31m                     \u001b[0mrow\u001b[0m \u001b[0;34m=\u001b[0m \u001b[0;34m[\u001b[0m\u001b[0;34m\"X_\"\u001b[0m\u001b[0;34m+\u001b[0m\u001b[0mstr\u001b[0m\u001b[0;34m(\u001b[0m\u001b[0msize\u001b[0m\u001b[0;34m)\u001b[0m\u001b[0;34m+\u001b[0m\u001b[0;34m\"[\"\u001b[0m\u001b[0;34m+\u001b[0m \u001b[0mstr\u001b[0m\u001b[0;34m(\u001b[0m\u001b[0memu_intermediate\u001b[0m\u001b[0;34m[\u001b[0m\u001b[0mint\u001b[0m\u001b[0;34m(\u001b[0m\u001b[0msize\u001b[0m\u001b[0;34m)\u001b[0m\u001b[0;34m]\u001b[0m\u001b[0;34m[\u001b[0m\u001b[0memu\u001b[0m\u001b[0;34m]\u001b[0m \u001b[0;34m*\u001b[0m \u001b[0;34m(\u001b[0m\u001b[0msize\u001b[0m \u001b[0;34m+\u001b[0m \u001b[0;36m1\u001b[0m\u001b[0;34m)\u001b[0m \u001b[0;34m+\u001b[0m \u001b[0mx\u001b[0m\u001b[0;34m)\u001b[0m \u001b[0;34m+\u001b[0m \u001b[0;34m\"]\"\u001b[0m\u001b[0;32mfor\u001b[0m \u001b[0mx\u001b[0m \u001b[0;32min\u001b[0m \u001b[0mrange\u001b[0m\u001b[0;34m(\u001b[0m\u001b[0msize\u001b[0m \u001b[0;34m+\u001b[0m \u001b[0;36m1\u001b[0m\u001b[0;34m)\u001b[0m\u001b[0;34m]\u001b[0m\u001b[0;34m\u001b[0m\u001b[0;34m\u001b[0m\u001b[0m\n\u001b[0m\u001b[1;32m   1960\u001b[0m                     \u001b[0mstring\u001b[0m \u001b[0;34m+=\u001b[0m \u001b[0;34m\"\\temu_list['\"\u001b[0m \u001b[0;34m+\u001b[0m \u001b[0mtarget_fragment\u001b[0m \u001b[0;34m+\u001b[0m\u001b[0;34m\"'] = [\"\u001b[0m \u001b[0;34m+\u001b[0m \u001b[0;34m','\u001b[0m\u001b[0;34m.\u001b[0m\u001b[0mjoin\u001b[0m\u001b[0;34m(\u001b[0m\u001b[0mrow\u001b[0m\u001b[0;34m)\u001b[0m \u001b[0;34m+\u001b[0m \u001b[0;34m\"]\\n\"\u001b[0m\u001b[0;34m\u001b[0m\u001b[0;34m\u001b[0m\u001b[0m\n\u001b[1;32m   1961\u001b[0m                     \u001b[0;32mif\u001b[0m \u001b[0mself\u001b[0m\u001b[0;34m.\u001b[0m\u001b[0mconfiguration\u001b[0m\u001b[0;34m[\u001b[0m\u001b[0;34m'add_naturalisotope_in_calmdv'\u001b[0m\u001b[0;34m]\u001b[0m \u001b[0;34m==\u001b[0m \u001b[0;34m\"yes\"\u001b[0m\u001b[0;34m:\u001b[0m\u001b[0;34m\u001b[0m\u001b[0;34m\u001b[0m\u001b[0m\n",
      "\u001b[0;31mKeyError\u001b[0m: 4"
     ]
    }
   ],
   "source": [
    "#Dumping some set up code here from Explanation 1:\n",
    "\n",
    "#sets up model variables using simulation model.txt file\n",
    "reactions, reversible, metabolites, target_fragments = mfapy.mfapyio.load_metabolic_model(simulation_model, format = \"text\")\n",
    "model = mfapy.metabolicmodel.MetabolicModel(reactions, reversible, metabolites, target_fragments)\n",
    "\n",
    "#configurations -> investigate what these actually do and if we need to change them\n",
    "model.set_configuration(callbacklevel = 1) # Frequency level of callbacks from metabolic model\n",
    "model.set_configuration(iteration_max = 10000) # Maximal number of interations (steps) in each fitting task\n",
    "model.set_configuration(initial_search_repeats_in_grid_search = 5) # Number of initial metabolic flux disributions generated for each trial in grid search.\n",
    "model.set_configuration(initial_search_iteration_max = 1000) # Maximal number of interations (steps) allowed in each task to find feasible initial metabolic flux distribution.\n",
    "model.set_configuration(grid_search_iterations = 1) # Number of trials for model fitting at each point in grid search.\n",
    "model.set_configuration(number_of_repeat = 3) # Iteration in self.fitting_flux(method = 'deep') [SLSQP => LN_PRAXIS] * n\n",
    "model.set_configuration(ncpus = 2) # Number of CPUs for Parallel processing\n",
    "\n",
    "#loads states and values from .csv file\n",
    "flux = model.load_states(simulation_csv, format = 'csv')\n",
    "model.set_constraints_from_state_dict(flux)\n",
    "model.update()"
   ]
  },
  {
   "cell_type": "code",
   "execution_count": null,
   "metadata": {},
   "outputs": [],
   "source": [
    "# Generation of CarbonSource instance\n",
    "cs1 = model.generate_carbon_source_template()\n",
    "cs1.set_each_isotopomer('AcCoA', {'#10':0.5})\n",
    "cs2 = model.generate_carbon_source_template()\n",
    "cs2.set_each_isotopomer('AcCoA', {'#11':0.5})\n",
    "# What, if any, isotopomers do we need to set?"
   ]
  },
  {
   "cell_type": "code",
   "execution_count": null,
   "metadata": {},
   "outputs": [],
   "source": [
    "# Load MDV data\n",
    "mdv1 = model.load_mdv_data(MDV_data) #string variable from user input\n",
    "\n",
    "#include more if there are more data files"
   ]
  },
  {
   "cell_type": "code",
   "execution_count": null,
   "metadata": {},
   "outputs": [],
   "source": [
    "# Flux estimation Step 1: Setting experimments\n",
    "model.set_experiment('ex1', mdv1, cs1)\n",
    "#include more for more data sets"
   ]
  },
  {
   "cell_type": "code",
   "execution_count": null,
   "metadata": {},
   "outputs": [],
   "source": [
    "# Flux estimation step 2: Generation of intical flux vectors\n",
    "endstate, flux = model.generate_initial_states(50, 4, method =\"parallel\")\n"
   ]
  },
  {
   "cell_type": "code",
   "execution_count": null,
   "metadata": {},
   "outputs": [],
   "source": [
    "# Flux estimation step 3: Fitting model\n",
    "for method in [\"GN_CRS2_LM\", \"LN_PRAXIS\", \"SLSQP\"]:\n",
    "    endstate, RSS, flux = model.fitting_flux(method = method, flux = flux)\n",
    "model.show_results([(\"final\", flux[0])]) # Show result"
   ]
  },
  {
   "cell_type": "code",
   "execution_count": null,
   "metadata": {},
   "outputs": [],
   "source": [
    "# Estimation of 95% CI\n",
    "ci_edge = model.generate_ci_template(targets = [('reaction', \"v3\")])\n",
    "ci = model.search_ci(ci_edge, flux[0], method = 'grid')\n",
    "lb = ci['data'][('reaction', \"v3\")]['lower_boundary']\n",
    "ub = ci['data'][('reaction', \"v3\")]['upper_boundary']\n",
    "print(\"v3\", \"Lower bondary:\",lb, \"Upper boundary:\", ub)"
   ]
  },
  {
   "cell_type": "code",
   "execution_count": null,
   "metadata": {},
   "outputs": [],
   "source": [
    "#Run mfapy code here:"
   ]
  },
  {
   "cell_type": "code",
   "execution_count": null,
   "metadata": {},
   "outputs": [],
   "source": [
    "#Output data code goes here:\n",
    "\n",
    "  # Output fitted metabolic flux into CSV file\n",
    "    \n",
    "model.show_results(results, filename = \"Explanation_1_13CMFA_output.csv\",  checkrss = \"on\", format = \"csv\")\n",
    "    \n",
    "    # Output fitted metabolic flux in console\n",
    "    \n",
    "model.show_results(results,  checkrss = \"on\")\n",
    "    \n",
    "    # Output flux balance of given metabolite\n",
    "    \n",
    "model.show_flux_balance(results, \"Fum\")\n",
    "model.show_flux_balance(results, \"Fum\", filename = \"Explanation_1_13CMFA_metabolite_balance.csv\", format = \"csv\")"
   ]
  },
  {
   "cell_type": "code",
   "execution_count": null,
   "metadata": {},
   "outputs": [],
   "source": []
  }
 ],
 "metadata": {
  "kernelspec": {
   "display_name": "Python 3 (ipykernel)",
   "language": "python",
   "name": "python3"
  },
  "language_info": {
   "codemirror_mode": {
    "name": "ipython",
    "version": 3
   },
   "file_extension": ".py",
   "mimetype": "text/x-python",
   "name": "python",
   "nbconvert_exporter": "python",
   "pygments_lexer": "ipython3",
   "version": "3.7.4"
  }
 },
 "nbformat": 4,
 "nbformat_minor": 4
}
