{
 "cells": [
  {
   "cell_type": "code",
   "execution_count": 26,
   "metadata": {},
   "outputs": [],
   "source": [
    "import mfapy\n",
    "%matplotlib inline\n",
    "import numpy as np\n",
    "import scipy.integrate\n",
    "from matplotlib import pyplot as plt"
   ]
  },
  {
   "cell_type": "markdown",
   "metadata": {},
   "source": [
    "Outline for Master Code:\n",
    "- Introduction markdown cell -> introduce code and what exactly it does\n",
    "- Try some fancy markdown figures for model/model description\n",
    "- Input cells -> have user input raw data (MDV files)\n",
    "- Code to set up model and make necessary variables\n",
    "- Code to run mfapy and display flux data\n",
    "- Output in some graphs/tables\n",
    "- Add extra spice as needed :)"
   ]
  },
  {
   "cell_type": "code",
   "execution_count": 27,
   "metadata": {
    "scrolled": true
   },
   "outputs": [
    {
     "name": "stdin",
     "output_type": "stream",
     "text": [
      "Enter the name of the metabolic model .txt file:  Example_1_toymodel_model_test.txt\n",
      "Enter the name of the .csv file containing the parameters:  Example_1_toymodel_status_test.csv\n",
      "Enter the name of the MDV .txt file:  Example_1_MDV1.txt\n"
     ]
    }
   ],
   "source": [
    "#Input Checklist:\n",
    "# - Simulation model .txt file --> defines reactions and metabolites\n",
    "# - Simulation .csv file --> code calls values from the cells of this file\n",
    "# - MDV data .txt file --> code calls values from this file to compute carbon fluxes\n",
    "\n",
    "# User input code goes here:\n",
    "\n",
    "simulation_model = input(\"Enter the name of the metabolic model .txt file: \")\n",
    "\n",
    "simulation_csv = input(\"Enter the name of the .csv file containing the parameters: \")\n",
    "\n",
    "MDV_data = input(\"Enter the name of the MDV .txt file: \")"
   ]
  },
  {
   "cell_type": "code",
   "execution_count": null,
   "metadata": {},
   "outputs": [],
   "source": [
    "print(MDV_data)"
   ]
  },
  {
   "cell_type": "code",
   "execution_count": 38,
   "metadata": {
    "scrolled": true
   },
   "outputs": [
    {
     "data": {
      "text/plain": [
       "True"
      ]
     },
     "execution_count": 38,
     "metadata": {},
     "output_type": "execute_result"
    }
   ],
   "source": [
    "#Dumping some set up code here from Explanation 1:\n",
    "\n",
    "#sets up model variables using simulation model.txt file\n",
    "reactions, reversible, metabolites, target_fragments = mfapy.mfapyio.load_metabolic_model(simulation_model, format=\"text\")\n",
    "model = mfapy.metabolicmodel.MetabolicModel(reactions, reversible, metabolites, target_fragments)\n",
    "\n",
    "#configurations -> investigate what these actually do and if we need to change them\n",
    "#model.set_configuration(callbacklevel = 1) # Frequency level of callbacks from metabolic model\n",
    "#model.set_configuration(iteration_max = 10000) # Maximal number of interations (steps) in each fitting task\n",
    "#model.set_configuration(initial_search_repeats_in_grid_search = 5) # Number of initial metabolic flux disributions generated for each trial in grid search.\n",
    "#model.set_configuration(initial_search_iteration_max = 1000) # Maximal number of interations (steps) allowed in each task to find feasible initial metabolic flux distribution.\n",
    "#model.set_configuration(grid_search_iterations = 1) # Number of trials for model fitting at each point in grid search.\n",
    "#model.set_configuration(number_of_repeat = 3) # Iteration in self.fitting_flux(method = 'deep') [SLSQP => LN_PRAXIS] * n\n",
    "#model.set_configuration(ncpus = 4) # Number of CPUs for Parallel processing\n",
    "\n",
    "#loads states and values from .csv file\n",
    "flux = model.load_states(simulation_csv, format = 'csv')\n",
    "model.set_constraints_from_state_dict(flux)\n",
    "model.update()"
   ]
  },
  {
   "cell_type": "code",
   "execution_count": 39,
   "metadata": {},
   "outputs": [
    {
     "data": {
      "text/plain": [
       "True"
      ]
     },
     "execution_count": 39,
     "metadata": {},
     "output_type": "execute_result"
    }
   ],
   "source": [
    "# Generation of CarbonSource instance\n",
    "cs1 = model.generate_carbon_source_template()\n",
    "cs1.set_each_isotopomer('AcCoA', {'#10':0.5})\n",
    "#cs2 = model.generate_carbon_source_template()\n",
    "#cs2.set_each_isotopomer('AcCoA', {'#11':0.5})\n",
    "# What, if any, isotopomers do we need to set?"
   ]
  },
  {
   "cell_type": "code",
   "execution_count": 40,
   "metadata": {},
   "outputs": [],
   "source": [
    "# Load MDV data\n",
    "mdv1 = model.load_mdv_data(MDV_data) #string variable from user input\n",
    "\n",
    "#include more if there are more data files"
   ]
  },
  {
   "cell_type": "code",
   "execution_count": 41,
   "metadata": {},
   "outputs": [
    {
     "data": {
      "text/plain": [
       "True"
      ]
     },
     "execution_count": 41,
     "metadata": {},
     "output_type": "execute_result"
    }
   ],
   "source": [
    "# Flux estimation Step 1: Setting experimments\n",
    "model.set_experiment('ex1', mdv1, cs1)\n",
    "#include more for more data sets"
   ]
  },
  {
   "cell_type": "code",
   "execution_count": 42,
   "metadata": {},
   "outputs": [],
   "source": [
    "# Flux estimation step 2: Generation of intical flux vectors\n",
    "endstate, flux = model.generate_initial_states(50, 4, method =\"parallel\") #method =\"parallel\")\n"
   ]
  },
  {
   "cell_type": "code",
   "execution_count": null,
   "metadata": {},
   "outputs": [],
   "source": [
    "model.generate_initial_states?"
   ]
  },
  {
   "cell_type": "code",
   "execution_count": 43,
   "metadata": {},
   "outputs": [
    {
     "name": "stdout",
     "output_type": "stream",
     "text": [
      "Id             Reaction                 External i   final\n",
      "RSS                                                1358.31\n",
      "Thres                                                 7.81\n",
      "p_value                                               0.00\n",
      "Id             Reaction                 External i   final Type     Value Stdev    lb    ub Atom_mapping             \n",
      "v1             AcCoA+OAC-->Cit          (kegg:R003   100.0 fixed    100.0   1.0   0.0 300.0 AB+CDEF-->FEDBAC         \n",
      "v2             Cit-->AKG+CO2ex          (kegg:R007   100.0 free     100.0   1.0   0.0 300.0 ABCDEF-->ABCDE+F         \n",
      "v3             AKG-->Glu                (kegg:R002    50.4 free      50.0   1.0   0.0 300.0 ABCDE-->ABCDE            \n",
      "v4             AKG-->Suc+CO2ex          (kegg:R011    49.6 free      50.0   1.0   0.0 300.0 ABCDE-->BCDE+A           \n",
      "v5             Fum-->Suc                (kegg:R021    96.9 free      50.0   1.0   0.0 300.0 ABCD-->ABCD              \n",
      "v6             OAC-->Fum                (kegg:R010    96.9 free     125.0   1.0   0.0 300.0 ABCD-->ABCD              \n",
      "v8             Asp-->OAC                (kegg:R003   196.9 free      50.0   1.0   0.0 300.0 ABCD-->ABCD              \n",
      "v9             Glu-->Gluex              (kegg:R002    50.4 free      50.0   1.0   0.0 300.0 nd                       \n",
      "v10            Suc-->Sucex              noid         146.4 free      50.0   1.0   0.0 300.0 nd                       \n",
      "Experiment     Fragment_N               Time         final     Use  Ratio Stdev\n",
      "ex1            GluMes_0                 0.00       -0.0000       1 0.0125  0.01\n",
      "ex1            GluMes_1                 0.00        1.0000       1 0.7334  0.01\n",
      "ex1            GluMes_2                 0.00       -0.0000       1 0.2541  0.01\n",
      "ex1            GluMes_3                 0.00       -0.0000       1 0.0000  0.01\n",
      "ex1            GluMes_4                 0.00       -0.0000       1 0.0000  0.01\n",
      "ex1            GluMes_5                 0.00       -0.0000       1 0.0000  0.01\n",
      "\n"
     ]
    }
   ],
   "source": [
    "# Flux estimation step 3: Fitting model\n",
    "for method in [\"GN_CRS2_LM\", \"LN_PRAXIS\", \"SLSQP\"]:\n",
    "    endstate, RSS, flux = model.fitting_flux(method = method, flux = flux)\n",
    "model.show_results([(\"final\", flux[0])]) # Show result"
   ]
  },
  {
   "cell_type": "code",
   "execution_count": 44,
   "metadata": {},
   "outputs": [
    {
     "name": "stdout",
     "output_type": "stream",
     "text": [
      "v3 Lower bondary: 0.02212802104675493 Upper boundary: 98.90486841317767\n"
     ]
    }
   ],
   "source": [
    "# Estimation of 95% CI\n",
    "ci_edge = model.generate_ci_template(targets = [('reaction', \"v3\")])\n",
    "ci = model.search_ci(ci_edge, flux[0], method = 'grid')\n",
    "lb = ci['data'][('reaction', \"v3\")]['lower_boundary']\n",
    "ub = ci['data'][('reaction', \"v3\")]['upper_boundary']\n",
    "print(\"v3\", \"Lower bondary:\",lb, \"Upper boundary:\", ub)"
   ]
  },
  {
   "cell_type": "code",
   "execution_count": null,
   "metadata": {},
   "outputs": [],
   "source": [
    "#Run mfapy code here:"
   ]
  },
  {
   "cell_type": "code",
   "execution_count": null,
   "metadata": {},
   "outputs": [],
   "source": [
    "#Output data code goes here:\n",
    "\n",
    "  # Output fitted metabolic flux into CSV file\n",
    "    \n",
    "model.show_results(results, filename = \"Explanation_1_13CMFA_output.csv\",  checkrss = \"on\", format = \"csv\")\n",
    "    \n",
    "    # Output fitted metabolic flux in console\n",
    "    \n",
    "model.show_results(results,  checkrss = \"on\")\n",
    "    \n",
    "    # Output flux balance of given metabolite\n",
    "    \n",
    "model.show_flux_balance(results, \"Fum\")\n",
    "model.show_flux_balance(results, \"Fum\", filename = \"Explanation_1_13CMFA_metabolite_balance.csv\", format = \"csv\")"
   ]
  },
  {
   "cell_type": "code",
   "execution_count": null,
   "metadata": {},
   "outputs": [],
   "source": []
  }
 ],
 "metadata": {
  "kernelspec": {
   "display_name": "Python 3 (ipykernel)",
   "language": "python",
   "name": "python3"
  },
  "language_info": {
   "codemirror_mode": {
    "name": "ipython",
    "version": 3
   },
   "file_extension": ".py",
   "mimetype": "text/x-python",
   "name": "python",
   "nbconvert_exporter": "python",
   "pygments_lexer": "ipython3",
   "version": "3.7.4"
  }
 },
 "nbformat": 4,
 "nbformat_minor": 4
}
