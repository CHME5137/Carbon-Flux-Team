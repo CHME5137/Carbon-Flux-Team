{
 "cells": [
  {
   "cell_type": "code",
   "execution_count": 1,
   "metadata": {},
   "outputs": [],
   "source": [
    "import mfapy\n",
    "%matplotlib inline\n",
    "import numpy as np\n",
    "import scipy.integrate\n",
    "from matplotlib import pyplot as plt"
   ]
  },
  {
   "cell_type": "markdown",
   "metadata": {},
   "source": [
    "Outline for Master Code:\n",
    "- Introduction markdown cell -> introduce code and what exactly it does\n",
    "- Try some fancy markdown figures for model/model description\n",
    "- Input cells -> have user input raw data (MDV files)\n",
    "- Code to set up model and make necessary variables\n",
    "- Code to run mfapy and display flux data\n",
    "- Output in some graphs/tables\n",
    "- Add extra spice as needed :)"
   ]
  },
  {
   "cell_type": "code",
   "execution_count": 2,
   "metadata": {
    "scrolled": true
   },
   "outputs": [
    {
     "name": "stdout",
     "output_type": "stream",
     "text": [
      "Enter the name of the metabolic model .txt file: Elim2_model.txt\n",
      "Enter the name of the .csv file containing the parameters: Elim2_status.csv\n",
      "Enter the name of the MDV .txt file: Elim2_mdv.txt\n"
     ]
    }
   ],
   "source": [
    "#Input Checklist:\n",
    "# - Simulation model .txt file --> defines reactions and metabolites\n",
    "# - Simulation .csv file --> code calls values from the cells of this file\n",
    "# - MDV data .txt file --> code calls values from this file to compute carbon fluxes\n",
    "\n",
    "# User input code goes here:\n",
    "\n",
    "simulation_model = input(\"Enter the name of the metabolic model .txt file: \")\n",
    "\n",
    "simulation_csv = input(\"Enter the name of the .csv file containing the parameters: \")\n",
    "\n",
    "MDV_data = input(\"Enter the name of the MDV .txt file: \")"
   ]
  },
  {
   "cell_type": "code",
   "execution_count": 4,
   "metadata": {},
   "outputs": [
    {
     "name": "stdout",
     "output_type": "stream",
     "text": [
      "MDV.txt\n"
     ]
    }
   ],
   "source": [
    "print(MDV_data)"
   ]
  },
  {
   "cell_type": "code",
   "execution_count": 11,
   "metadata": {
    "scrolled": true
   },
   "outputs": [
    {
     "name": "stdout",
     "output_type": "stream",
     "text": [
      "Caution: Formate was not used in the metabolid network\n"
     ]
    }
   ],
   "source": [
    "#Dumping some set up code here from Explanation 1:\n",
    "\n",
    "#sets up model variables using simulation model.txt file\n",
    "reactions, reversible, metabolites, target_fragments = mfapy.mfapyio.load_metabolic_model(simulation_model, format=\"text\")\n",
    "model = mfapy.metabolicmodel.MetabolicModel(reactions, reversible, metabolites, target_fragments)\n",
    "\n",
    "#configurations -> investigate what these actually do and if we need to change them\n",
    "#model.set_configuration(callbacklevel = 1) # Frequency level of callbacks from metabolic model\n",
    "#model.set_configuration(iteration_max = 10000) # Maximal number of interations (steps) in each fitting task\n",
    "#model.set_configuration(initial_search_repeats_in_grid_search = 5) # Number of initial metabolic flux disributions generated for each trial in grid search.\n",
    "#model.set_configuration(initial_search_iteration_max = 1000) # Maximal number of interations (steps) allowed in each task to find feasible initial metabolic flux distribution.\n",
    "#model.set_configuration(grid_search_iterations = 1) # Number of trials for model fitting at each point in grid search.\n",
    "#model.set_configuration(number_of_repeat = 3) # Iteration in self.fitting_flux(method = 'deep') [SLSQP => LN_PRAXIS] * n\n",
    "#model.set_configuration(ncpus = 4) # Number of CPUs for Parallel processing\n",
    "\n",
    "#loads states and values from .csv file\n",
    "flux = model.load_states(simulation_csv, format = 'csv')\n",
    "model.set_constraints_from_state_dict(flux)\n",
    "model.update()\n",
    "results = [('template', flux)]"
   ]
  },
  {
   "cell_type": "code",
   "execution_count": 12,
   "metadata": {},
   "outputs": [
    {
     "data": {
      "text/plain": [
       "True"
      ]
     },
     "execution_count": 12,
     "metadata": {},
     "output_type": "execute_result"
    }
   ],
   "source": [
    "# Generation of CarbonSource instance\n",
    "cs1 = model.generate_carbon_source_template()\n",
    "cs1.set_each_isotopomer('SubsCO2',{'#0': 0.01, '#1': 0.99}, correction = 'yes')\n",
    "cs1.set_each_isotopomer('Subsmeoh',{'#0': 1.0, '#1': 0.0}, correction = 'yes')"
   ]
  },
  {
   "cell_type": "code",
   "execution_count": 13,
   "metadata": {},
   "outputs": [],
   "source": [
    "# Load MDV data\n",
    "mdv1 = model.load_mdv_data(MDV_data) #string variable from user input\n",
    "\n",
    "#include more if there are more data files"
   ]
  },
  {
   "cell_type": "code",
   "execution_count": 14,
   "metadata": {},
   "outputs": [
    {
     "data": {
      "text/plain": [
       "True"
      ]
     },
     "execution_count": 14,
     "metadata": {},
     "output_type": "execute_result"
    }
   ],
   "source": [
    "# Flux estimation Step 1: Setting experimments\n",
    "model.set_experiment('ex1', mdv1, cs1)\n",
    "#include more for more data sets"
   ]
  },
  {
   "cell_type": "code",
   "execution_count": 15,
   "metadata": {
    "scrolled": false
   },
   "outputs": [],
   "source": [
    "# Flux estimation step 2: Generation of intical flux vectors\n",
    "initialstate, flux_initial = model.generate_initial_states(50, 4, method =\"normal\")\n",
    "results.append((\"Initial\", flux_initial))"
   ]
  },
  {
   "cell_type": "code",
   "execution_count": 17,
   "metadata": {
    "scrolled": true
   },
   "outputs": [],
   "source": [
    "# Flux estimation step 3: Fitting model\n",
    "\n",
    "#GN_CRS2_LM    \n",
    "initialstate, RSS, flux_opt_GN_CRS2_LM = model.fitting_flux(method = \"GN_CRS2_LM\", flux = flux_initial)\n",
    "results.append((\"GN_CRS2_LM\", flux_opt_GN_CRS2_LM))\n",
    "\n",
    "#SLSQP\n",
    "initialstate, RSS, flux_opt_SLSQP = model.fitting_flux(method = \"SLSQP\", flux = flux_initial)\n",
    "results.append((\"SLSQP\", flux_opt_SLSQP))\n",
    "\n",
    "#LN_SBPLX\n",
    "initialstate, RSS, flux_opt_LN_SBPLX = model.fitting_flux(method = \"LN_SBPLX\", flux = flux_initial)\n",
    "results.append((\"LN_SBPLX\", flux_opt_LN_SBPLX))"
   ]
  },
  {
   "cell_type": "code",
   "execution_count": 44,
   "metadata": {},
   "outputs": [
    {
     "name": "stdout",
     "output_type": "stream",
     "text": [
      "v3 Lower bondary: 0.02212802104675493 Upper boundary: 98.90486841317767\n"
     ]
    }
   ],
   "source": [
    "# Estimation of 95% CI\n",
    "ci_edge = model.generate_ci_template(targets = [('reaction', \"v3\")])\n",
    "ci = model.search_ci(ci_edge, flux[0], method = 'grid')\n",
    "lb = ci['data'][('reaction', \"v3\")]['lower_boundary']\n",
    "ub = ci['data'][('reaction', \"v3\")]['upper_boundary']\n",
    "print(\"v3\", \"Lower bondary:\",lb, \"Upper boundary:\", ub)"
   ]
  },
  {
   "cell_type": "code",
   "execution_count": 19,
   "metadata": {},
   "outputs": [],
   "source": [
    "# Output fitted metabolic flux into CSV file\n",
    "    \n",
    "model.show_results([(\"final\", flux_opt_GN_CRS2_LM[0])], filename = \"Elim2_output_GN_CRS2_LM.csv\",  checkrss = \"on\", format = \"csv\")\n",
    "\n",
    "model.show_results([(\"final\", flux_opt_SLSQP[0])], filename = \"Elim2_output_SLSQP.csv\",  checkrss = \"on\", format = \"csv\")\n",
    "\n",
    "model.show_results([(\"final\", flux_opt_LN_SBPLX[0])], filename = \"Elim2_output_LN_SBPLX.csv\",  checkrss = \"on\", format = \"csv\")"
   ]
  }
 ],
 "metadata": {
  "kernelspec": {
   "display_name": "Python 3",
   "language": "python",
   "name": "python3"
  },
  "language_info": {
   "codemirror_mode": {
    "name": "ipython",
    "version": 3
   },
   "file_extension": ".py",
   "mimetype": "text/x-python",
   "name": "python",
   "nbconvert_exporter": "python",
   "pygments_lexer": "ipython3",
   "version": "3.8.5"
  }
 },
 "nbformat": 4,
 "nbformat_minor": 4
}
