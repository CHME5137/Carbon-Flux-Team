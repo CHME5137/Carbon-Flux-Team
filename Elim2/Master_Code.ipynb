{
 "cells": [
  {
   "cell_type": "code",
   "execution_count": 1,
   "metadata": {},
   "outputs": [],
   "source": [
    "import mfapy\n",
    "%matplotlib inline\n",
    "import numpy as np\n",
    "import scipy.integrate\n",
    "from matplotlib import pyplot as plt"
   ]
  },
  {
   "cell_type": "markdown",
   "metadata": {},
   "source": [
    "Outline for Master Code:\n",
    "- Introduction markdown cell -> introduce code and what exactly it does\n",
    "- Try some fancy markdown figures for model/model description\n",
    "- Input cells -> have user input raw data (MDV files)\n",
    "- Code to set up model and make necessary variables\n",
    "- Code to run mfapy and display flux data\n",
    "- Output in some graphs/tables\n",
    "- Add extra spice as needed :)"
   ]
  },
  {
   "cell_type": "code",
   "execution_count": 2,
   "metadata": {
    "scrolled": true
   },
   "outputs": [
    {
     "name": "stdin",
     "output_type": "stream",
     "text": [
      "Enter the name of the metabolic model .txt file:  Elim2_model.txt\n",
      "Enter the name of the .csv file containing the parameters:  Elim2_status.csv\n",
      "Enter the name of the MDV .txt file:  Elim2_mdv.txt\n"
     ]
    }
   ],
   "source": [
    "#Input Checklist:\n",
    "# - Simulation model .txt file --> defines reactions and metabolites\n",
    "# - Simulation .csv file --> code calls values from the cells of this file\n",
    "# - MDV data .txt file --> code calls values from this file to compute carbon fluxes\n",
    "\n",
    "# User input code goes here:\n",
    "\n",
    "simulation_model = input(\"Enter the name of the metabolic model .txt file: \")\n",
    "\n",
    "simulation_csv = input(\"Enter the name of the .csv file containing the parameters: \")\n",
    "\n",
    "MDV_data = input(\"Enter the name of the MDV .txt file: \")"
   ]
  },
  {
   "cell_type": "code",
   "execution_count": null,
   "metadata": {},
   "outputs": [],
   "source": [
    "print(MDV_data)"
   ]
  },
  {
   "cell_type": "code",
   "execution_count": 57,
   "metadata": {
    "scrolled": true
   },
   "outputs": [
    {
     "name": "stdout",
     "output_type": "stream",
     "text": [
      "Caution: Formate was not used in the metabolid network\n"
     ]
    },
    {
     "data": {
      "text/plain": [
       "True"
      ]
     },
     "execution_count": 57,
     "metadata": {},
     "output_type": "execute_result"
    }
   ],
   "source": [
    "#Dumping some set up code here from Explanation 1:\n",
    "\n",
    "#sets up model variables using simulation model.txt file\n",
    "reactions, reversible, metabolites, target_fragments = mfapy.mfapyio.load_metabolic_model(simulation_model, format=\"text\")\n",
    "model = mfapy.metabolicmodel.MetabolicModel(reactions, reversible, metabolites, target_fragments)\n",
    "\n",
    "#configurations -> investigate what these actually do and if we need to change them\n",
    "#model.set_configuration(callbacklevel = 1) # Frequency level of callbacks from metabolic model\n",
    "#model.set_configuration(iteration_max = 10000) # Maximal number of interations (steps) in each fitting task\n",
    "#model.set_configuration(initial_search_repeats_in_grid_search = 5) # Number of initial metabolic flux disributions generated for each trial in grid search.\n",
    "#model.set_configuration(initial_search_iteration_max = 1000) # Maximal number of interations (steps) allowed in each task to find feasible initial metabolic flux distribution.\n",
    "#model.set_configuration(grid_search_iterations = 1) # Number of trials for model fitting at each point in grid search.\n",
    "#model.set_configuration(number_of_repeat = 3) # Iteration in self.fitting_flux(method = 'deep') [SLSQP => LN_PRAXIS] * n\n",
    "#model.set_configuration(ncpus = 4) # Number of CPUs for Parallel processing\n",
    "\n",
    "#loads states and values from .csv file\n",
    "flux = model.load_states(simulation_csv, format = 'csv')\n",
    "model.set_constraints_from_state_dict(flux)\n",
    "model.update()"
   ]
  },
  {
   "cell_type": "code",
   "execution_count": null,
   "metadata": {},
   "outputs": [],
   "source": [
    "# Generation of CarbonSource instance\n",
    "cs1 = model.generate_carbon_source_template()\n",
    "cs1.set_each_isotopomer('CO2', {'#1':1.0})\n",
    "#cs2 = model.generate_carbon_source_template()\n",
    "#cs2.set_each_isotopomer('AcCoA', {'#11':0.5})\n",
    "# What, if any, isotopomers do we need to set?"
   ]
  },
  {
   "cell_type": "code",
   "execution_count": 65,
   "metadata": {},
   "outputs": [
    {
     "data": {
      "text/plain": [
       "True"
      ]
     },
     "execution_count": 65,
     "metadata": {},
     "output_type": "execute_result"
    }
   ],
   "source": [
    " # Isotope labelling of carbon sources from mfapy Ex#2\n",
    "    #\n",
    "carbon_source1 = model.generate_carbon_source_templete()\n",
    "#carbon_source1.set_each_isotopomer('SubsGlc',{'#000000': 0.02, '#100000': 0.7, '#111111': 0.28 }, \n",
    "carbon_source1.set_each_isotopomer('SubsCO2',{'#0': 0.01, '#1': 0.99}, correction = 'yes') #correction = 'yes')\n",
    "carbon_source1.set_each_isotopomer('Subsmeoh',{'#0': 1.0, '#1': 0.0}, correction = 'yes') #correction = 'yes')\n",
    "#"
   ]
  },
  {
   "cell_type": "code",
   "execution_count": 66,
   "metadata": {},
   "outputs": [],
   "source": [
    "# Load MDV data\n",
    "mdv1 = model.load_mdv_data(MDV_data) #string variable from user input\n",
    "\n",
    "#include more if there are more data files"
   ]
  },
  {
   "cell_type": "code",
   "execution_count": 67,
   "metadata": {},
   "outputs": [
    {
     "data": {
      "text/plain": [
       "True"
      ]
     },
     "execution_count": 67,
     "metadata": {},
     "output_type": "execute_result"
    }
   ],
   "source": [
    "# Flux estimation Step 1: Setting experimments\n",
    "model.set_experiment('ex1', mdv1, carbon_source1)\n",
    "#include more for more data sets"
   ]
  },
  {
   "cell_type": "code",
   "execution_count": 68,
   "metadata": {},
   "outputs": [],
   "source": [
    "# Flux estimation step 2: Generation of intical flux vectors\n",
    "endstate, flux = model.generate_initial_states(50, 4, method =\"normal\") #method =\"parallel\")\n"
   ]
  },
  {
   "cell_type": "code",
   "execution_count": null,
   "metadata": {},
   "outputs": [],
   "source": [
    "model.generate_initial_states?"
   ]
  },
  {
   "cell_type": "code",
   "execution_count": 69,
   "metadata": {
    "scrolled": true
   },
   "outputs": [
    {
     "name": "stdout",
     "output_type": "stream",
     "text": [
      "Id             Reaction                 External i   final\n",
      "RSS                                               238213.45\n",
      "Thres                                                38.89\n",
      "p_value                                               0.00\n",
      "Id             Reaction                 External i   final Type     Value Stdev    lb    ub Atom_mapping             \n",
      "r1             SubsGlc-->G6P            (kegg:R028     0.0 fixed      0.0   1.0   0.01000.0 ABCDEF-->ABCDEF          \n",
      "r2             G6P-->F6P                (kegg:R007    39.1 free       1.0   1.0   0.01000.0 ABCDEF-->ABCDEF          \n",
      "r3             F6P-->G6P                (kegg:R007    59.7 free       1.0   1.0   0.01000.0 ABCDEF-->ABCDEF          \n",
      "r4             F6P-->FBP                (kegg:R007    90.2 free       1.0   1.0   0.01000.0 ABCDEF-->ABCDEF          \n",
      "r5             FBP-->F6P                (kegg:R010   114.5 free       1.0   1.0   0.01000.0 ABCDEF-->ABCDEF          \n",
      "r6             FBP-->DHAP+GAP           (kegg:R010    17.5 free       1.0   1.0   0.01000.0 ABCDEF-->CBA+DEF         \n",
      "r7             DHAP+GAP-->FBP           (kegg:R010    41.8 free       1.0   1.0   0.01000.0 CBA+DEF-->ABCDEF         \n",
      "r8             DHAP-->GAP               (kegg:R010   419.6 free       1.0   1.0   0.01000.0 ABC-->ABC                \n",
      "r9             GAP-->DHAP               (kegg:R010   444.4 free       1.0   1.0   0.01000.0 ABC-->ABC                \n",
      "r10            GAP-->PGA                (kegg:R010   501.2 free       1.0   1.0   0.01000.0 ABC-->ABC                \n",
      "r11            PGA-->GAP                (kegg:R015   533.2 free       1.0   1.0   0.01000.0 ABC-->ABC                \n",
      "r12            PGA-->PEP                (kegg:R015   271.2 free       1.0   1.0   0.01000.0 ABC-->ABC                \n",
      "r13            PEP-->PGA                (kegg:R002   310.1 free       1.0   1.0   0.01000.0 ABC-->ABC                \n",
      "r14            PEP-->Pyr                (kegg:R011   975.5 free       1.0   1.0   0.01000.0 ABC-->ABC                \n",
      "r15            Pyr-->PEP                (kegg:R003   999.6 free       1.0   1.0   0.01000.0 ABC-->ABC                \n",
      "r16            Pyr-->AcCOA+CO2in        (kegg:R007     2.7 free       1.0   1.0   0.01000.0 ABC-->BC+A               \n",
      "r17            AcCOA+Oxa-->IsoCit       (kegg:R007    37.0 free       1.0   1.0   0.01000.0 AB+CDEF-->FEDBAC         \n",
      "r18            IsoCit-->aKG+CO2in       (kegg:R011     5.6 free       1.0   1.0   0.01000.0 ABCDEF-->ABCDE+F         \n",
      "r19            aKG-->Suc+CO2in          (kegg:R021     0.6 free       1.0   1.0   0.01000.0 ABCDE-->BCDE+A           \n",
      "r20            Suc-->Fum                (kegg:R021   847.9 free       1.0   1.0   0.01000.0 ABCD-->ABCD              \n",
      "r21            Fum-->Suc                (kegg:R010   815.9 free       1.0   1.0   0.01000.0 ABCD-->ABCD              \n",
      "r22            Fum-->Mal                (kegg:R010   179.3 free       1.0   1.0   0.01000.0 ABCD-->ABCD              \n",
      "r23            Mal-->Fum                (kegg:R003   147.3 free       1.0   1.0   0.01000.0 ABCD-->ABCD              \n",
      "r24            Mal-->Oxa                (kegg:R003   159.4 free       1.0   1.0   0.01000.0 ABCD-->ABCD              \n",
      "r25            Oxa-->Mal                (kegg:R003    96.0 free       1.0   1.0   0.01000.0 ABCD-->ABCD              \n",
      "r26            IsoCit+AcCOA-->Mal+Suc   (kegg:R002    31.4 free       1.0   1.0   0.01000.0 ABCDEF+GH-->ABHG+FCDE    \n",
      "r27            G6P-->m6PG               (kegg:R008    19.7 free       1.0   1.0   0.01000.0 ABCDEF-->ABCDEF          \n",
      "r28            m6PG-->Ru5P+CO2in        (kegg:R015     0.0 free       1.0   1.0   0.01000.0 ABCDEF-->BCDEF+A         \n",
      "r29            Ru5P-->R5P               (kegg:R010   157.4 free       1.0   1.0   0.01000.0 ABCDE-->ABCDE            \n",
      "r30            R5P-->Ru5P               (kegg:R010   154.0 free       1.0   1.0   0.01000.0 ABCDE-->ABCDE            \n",
      "r31            Ru5P-->Xu5P              (kegg:R015   461.1 free       1.0   1.0   0.01000.0 ABCDE-->ABCDE            \n",
      "r32            Xu5P-->Ru5P              (kegg:R015   464.5 free       1.0   1.0   0.01000.0 ABCDE-->ABCDE            \n",
      "r33            R5P+Xu5P-->S7P+GAP       (kegg:R016   434.1 free       1.0   1.0   0.01000.0 ABCDE+FGHIJ-->FGABCDE+HIJ\n",
      "r34            GAP+S7P-->Xu5P+R5P       (kegg:R016   435.0 free       1.0   1.0   0.01000.0 HIJ+FGABCDE-->FGHIJ+ABCDE\n",
      "r35            GAP+S7P-->F6P+E4P        (kegg:R085   900.7 free       1.0   1.0   0.01000.0 ABC+DEFGHIJ-->DEFABC+GHIJ\n",
      "r36            E4P+F6P-->S7P+GAP        (kegg:R085   901.5 free       1.0   1.0   0.01000.0 GHIJ+DEFABC-->DEFGHIJ+ABC\n",
      "r37            E4P+Xu5P-->F6P+GAP       (kegg:R010   997.3 free       1.0   1.0   0.01000.0 ABCD+EFGHI-->EFABCD+GHI  \n",
      "r38            GAP+F6P-->Xu5P+E4P       (kegg:R010   999.8 free       1.0   1.0   0.01000.0 GHI+EFABCD-->EFGHI+ABCD  \n",
      "r39            m6PG-->Pyr+GAP           (kegg:R007    19.6 free       1.0   1.0   0.01000.0 ABCDEF-->ABC+DEF         \n",
      "r40            PEP+CO2in-->Oxa          (kegg:Lace    51.5 free       1.0   1.0   0.01000.0 ABC+D-->ABCD             \n",
      "r41            Oxa-->PEP+CO2in          (kegg:Subs    69.6 free       1.0   1.0   0.01000.0 ABCD-->ABC+D             \n",
      "r42            Mal-->Pyr+CO2in          (kegg:R002     0.0 free       1.0   1.0   0.01000.0 ABCD-->ABC+D             \n",
      "r49            AcCOA-->Acetate          (kegg:Aspe     0.0 free       1.0   1.0   0.01000.0 AB-->AB                  \n",
      "r50            Acetate-->Acetateex      (kegg:R004     0.0 fitting   36.8   2.8   0.01000.0 nd                       \n",
      "r56            SubsCO2-->CO2in          (kegg:Subs   325.5 free       1.0   1.0   0.01000.0 A-->A                    \n",
      "r57            CO2in-->CO2ex            (kegg:Glu)   232.6 free       1.0   1.0   0.01000.0 nd                       \n",
      "r58            Pyr-->Ala                (kegg:Arg)    10.0 pseudo     1.0   1.0   0.01000.0 ABC-->ABC                \n",
      "r59            Oxa-->Asp                (kegg:R003    10.0 pseudo     1.0   1.0   0.01000.0 ABCD-->ABCD              \n",
      "r60            Oxa-->Thr                (kegg:Biom    10.0 pseudo     1.0   1.0   0.01000.0 ABCD-->ABCD              \n",
      "r61            aKG-->Glu                (kegg:Biom    10.0 pseudo     1.0   1.0   0.01000.0 ABCDE-->ABCDE            \n",
      "r62            E4P+PEP+PEP-->Phe        (kegg:Biom    10.0 pseudo     1.0   1.0   0.01000.0 ABCD+EFG+HIJ-->EFGIJABCD \n",
      "r63            E4P+PEP+PEP-->Tyr        (kegg:Biom    10.0 pseudo     1.0   1.0   0.01000.0 ABCD+EFG+HIJ-->EFGIJABCD \n",
      "r64            Oxa+Pyr-->Ile            (kegg:R015    10.0 pseudo     1.0   1.0   0.01000.0 ABCD+EFG-->ABFGCD        \n",
      "r65            AcCOA+Pyr+Pyr-->Leu      (kegg:Biom    10.0 pseudo     1.0   1.0   0.01000.0 AB+CDE+FGH-->ABDEGH      \n",
      "r66            Pyr+Pyr-->Val            (kegg:Biom    10.0 pseudo     1.0   1.0   0.01000.0 ABC+DEF-->ABECF          \n",
      "r67            PGA-->Ser                (kegg:Biom     4.3 free       1.0   1.0   0.01000.0 ABC-->ABC                \n",
      "r68            Ser-->Gly+MEETHF         (kegg:Glu2     2.8 free       1.0   1.0   0.01000.0 ABC-->AB+C               \n",
      "r69            Gly+MEETHF-->Ser         (kegg:Biom     0.1 free       1.0   1.0   0.01000.0 AB+C-->ABC               \n",
      "r72            G6P-->Biomass            (kegg:Biom     1.0 fixed      1.0   1.0   0.01000.0 nd                       \n",
      "r73            F6P-->Biomass            (kegg:Biom     0.3 fixed      0.3   1.0   0.01000.0 nd                       \n",
      "r74            DHAP-->Biomass           (kegg:Biom     0.6 fixed      0.6   1.0   0.01000.0 nd                       \n",
      "r75            PGA-->Biomass            (kegg:CO2e     2.6 fixed      2.6   1.0   0.01000.0 nd                       \n",
      "r76            Ser-->Biomass            (kegg:Subs     1.6 fixed      1.6   1.0   0.01000.0 nd                       \n",
      "r77            Gly-->Biomass            (keggPGAex     2.7 fixed      2.7   1.0   0.01000.0 nd                       \n",
      "r78            MEETHF-->Biomass         (kegg:FAex     3.1 fixed      3.1   1.0   0.01000.0 nd                       \n",
      "r79            PEP-->Biomass            (kegg:MAL_     3.3 fixed      3.3   1.0   0.01000.0 nd                       \n",
      "r80            Pyr-->Biomass            (kegg:MAL_    13.1 fixed     13.1   1.0   0.01000.0 nd                       \n",
      "r81            AcCOA-->Biomass          (kegg:OXA_    13.6 fixed     13.6   1.0   0.01000.0 nd                       \n",
      "r82            aKG-->Biomass            (kegg:OXA_     5.0 fixed      5.0   1.0   0.01000.0 nd                       \n",
      "r83            Oxa-->Biomass            (kegg:ATP)     8.3 fixed      8.3   1.0   0.01000.0 nd                       \n",
      "r84            R5P-->Biomass            (kegg:NADH     4.2 fixed      4.2   1.0   0.01000.0 nd                       \n",
      "r85            E4P-->Biomass            (kegg:NADP     1.7 fixed      1.7   1.0   0.01000.0 nd                       \n",
      "r86            Ala-->Alaex              (kegg:Arg)    10.0 fixed     10.0   1.0   0.01000.0 nd                       \n",
      "r87            Asp-->Aspex              (kegg:R003    10.0 fixed     10.0   1.0   0.01000.0 nd                       \n",
      "r88            Thr-->Threx              (kegg:Biom    10.0 fixed     10.0   1.0   0.01000.0 nd                       \n",
      "r89            Glu-->Gluex              (kegg:Biom    10.0 fixed     10.0   1.0   0.01000.0 nd                       \n",
      "r90            Phe-->Pheex              (kegg:Biom    10.0 fixed     10.0   1.0   0.01000.0 nd                       \n",
      "r91            Tyr-->Tyrex              (kegg:Biom    10.0 fixed     10.0   1.0   0.01000.0 nd                       \n",
      "r92            Ile-->Ileex              (kegg:R015    10.0 fixed     10.0   1.0   0.01000.0 nd                       \n",
      "r93            Leu-->Leuex              (kegg:Biom    10.0 fixed     10.0   1.0   0.01000.0 nd                       \n",
      "r94            Val-->Valex              (kegg:Biom    10.0 fixed     10.0   1.0   0.01000.0 nd                       \n",
      "r104           Subsmeoh-->meoh          (kegg:MTI/   100.0 fixed    100.0   1.0   0.01000.0 A-->A                    \n",
      "r105           meoh-->METHF             (kegg:TBD)   100.0 free       1.0   1.0   0.01000.0 A-->A                    \n",
      "r106           METHF-->MEETHF           (kegg:TBD)   429.2 free       1.0   1.0   0.01000.0 A-->A                    \n",
      "r107           MEETHF-->METHF           (kegg:TBD)   428.7 free       1.0   1.0   0.01000.0 A-->A                    \n",
      "r108           CO2in+METHF-->AcCOA      (kegg:TBD)    99.6 free       1.0   1.0   0.01000.0 A+B-->AB                 \n",
      "r109           AcCOA+CO2in-->Pyr        (kegg:R007    20.3 free       1.0   1.0   0.01000.0 BC+A-->ABC               \n",
      "PGI            r2<=>r3                  (kegg:R007   -20.6 free       1.0   1.0-300.0 300.0                          \n",
      "FBA            r4<=>r5                  (kegg:R010   -24.3 free       1.0   1.0-300.0 300.0                          \n",
      "TPI            r8<=>r9                  (kegg:R010   -24.9 free       1.0   1.0-300.0 300.0                          \n",
      "GAPDH          r10<=>r11                (kegg:R010   -32.0 free       1.0   1.0-300.0 300.0                          \n",
      "PEPH           r12<=>r13                (kegg:R015   -38.9 free       1.0   1.0-300.0 300.0                          \n",
      "SDH            r20<=>r21                (kegg:R021    32.0 free       1.0   1.0-300.0 300.0                          \n",
      "MDH            r24<=>r25                (kegg:R003    63.4 free       1.0   1.0-300.0 300.0                          \n",
      "RPI            r29<=>r30                (kegg:R010     3.3 free       1.0   1.0-300.0 300.0                          \n",
      "RBE            r31<=>r32                (kegg:R015    -3.3 free       1.0   1.0-300.0 300.0                          \n",
      "TKT1           r33<=>r34                (kegg:R016    -0.8 free       1.0   1.0-300.0 300.0                          \n",
      "TAL            r35<=>r36                (kegg:R085    -0.8 free       1.0   1.0-300.0 300.0                          \n",
      "TKT2           r37<=>r38                (kegg:R010    -2.5 free       1.0   1.0-300.0 300.0                          \n",
      "FH             r22<=>r23                (kegg:R010    32.0 free       1.0   1.0-300.0 300.0                          \n",
      "THF            r106<=>r107              (kegg:TBD)     0.4 free       1.0   1.0-300.0 300.0                          \n",
      "PFOR           r16<=>r109               (kegg:R007   -17.6 free       1.0   1.0-300.0 300.0                          \n",
      "Experiment     Fragment_N               Time         final     Use  Ratio Stdev\n",
      "ex1            AlaMes_0                 0.00        0.0605       1 0.1711  0.00\n",
      "ex1            AlaMes_1                 0.00        0.4615       1 0.3666  0.00\n",
      "ex1            AlaMes_2                 0.00        0.4337       1 0.3955  0.00\n",
      "ex1            AlaMes_3                 0.00        0.0443       1 0.0668  0.00\n",
      "ex1            AspMes_0                 0.00        0.0015       1 0.0491  0.00\n",
      "ex1            AspMes_1                 0.00        0.0734       1 0.2283  0.00\n",
      "ex1            AspMes_2                 0.00        0.6175       1 0.3903  0.00\n",
      "ex1            AspMes_3                 0.00        0.2868       1 0.2899  0.00\n",
      "ex1            AspMes_4                 0.00        0.0208       1 0.0424  0.00\n",
      "ex1            GluMes_0                 0.00        0.0009       1 0.0281  0.00\n",
      "ex1            GluMes_1                 0.00        0.0461       1 0.1522  0.01\n",
      "ex1            GluMes_2                 0.00        0.5944       1 0.4344  0.00\n",
      "ex1            GluMes_3                 0.00        0.3172       1 0.3083  0.00\n",
      "ex1            GluMes_4                 0.00        0.0408       1 0.0704  0.00\n",
      "ex1            GluMes_5                 0.00        0.0007       1 0.0067  0.00\n",
      "ex1            GlyMes_0                 0.00        0.1091       1 0.2079  0.02\n",
      "ex1            GlyMes_1                 0.00        0.5584       1 0.4306  0.03\n",
      "ex1            GlyMes_2                 0.00        0.3326       1 0.3616  0.01\n",
      "ex1            IleMes_0                 0.00        0.0006       1 0.0414  0.00\n",
      "ex1            IleMes_1                 0.00        0.0317       1 0.2209  0.00\n",
      "ex1            IleMes_2                 0.00        0.2969       1 0.3536  0.00\n",
      "ex1            IleMes_3                 0.00        0.4306       1 0.2747  0.00\n",
      "ex1            IleMes_4                 0.00        0.2032       1 0.0932  0.00\n",
      "ex1            IleMes_5                 0.00        0.0351       1 0.0150  0.00\n",
      "ex1            IleMes_6                 0.00        0.0018       1 0.0013  0.00\n",
      "ex1            PheMes_0                 0.00        0.0008       1 0.0068  0.01\n",
      "ex1            PheMes_1                 0.00        0.0140       1 0.0479  0.00\n",
      "ex1            PheMes_2                 0.00        0.0848       1 0.1279  0.00\n",
      "ex1            PheMes_3                 0.00        0.2259       1 0.2236  0.00\n",
      "ex1            PheMes_4                 0.00        0.3121       1 0.2757  0.00\n",
      "ex1            PheMes_5                 0.00        0.2382       1 0.2054  0.00\n",
      "ex1            PheMes_6                 0.00        0.1000       1 0.0891  0.00\n",
      "ex1            PheMes_7                 0.00        0.0218       1 0.0205  0.00\n",
      "ex1            PheMes_8                 0.00        0.0023       1 0.0028  0.00\n",
      "ex1            PheMes_9                 0.00        0.0001       1 0.0002  0.00\n",
      "ex1            SerMes_0                 0.00        0.0635       1 0.1944  0.01\n",
      "ex1            SerMes_1                 0.00        0.4705       1 0.3909  0.01\n",
      "ex1            SerMes_2                 0.00        0.4211       1 0.3555  0.00\n",
      "ex1            SerMes_3                 0.00        0.0449       1 0.0592  0.00\n",
      "ex1            ThrMes_0                 0.00        0.0015       1 0.0517  0.00\n",
      "ex1            ThrMes_1                 0.00        0.0734       1 0.2460  0.00\n",
      "ex1            ThrMes_2                 0.00        0.6175       1 0.3859  0.00\n",
      "ex1            ThrMes_3                 0.00        0.2868       1 0.2817  0.00\n",
      "ex1            ThrMes_4                 0.00        0.0208       1 0.0346  0.00\n",
      "ex1            TyrMes_0                 0.00        0.0008       1 0.0202  0.00\n",
      "ex1            TyrMes_1                 0.00        0.0140       1 0.0456  0.00\n",
      "ex1            TyrMes_2                 0.00        0.0848       1 0.1255  0.00\n",
      "ex1            TyrMes_3                 0.00        0.2259       1 0.2152  0.00\n",
      "ex1            TyrMes_4                 0.00        0.3121       1 0.2615  0.00\n",
      "ex1            TyrMes_5                 0.00        0.2382       1 0.2087  0.00\n",
      "ex1            TyrMes_6                 0.00        0.1000       1 0.0936  0.00\n",
      "ex1            TyrMes_7                 0.00        0.0218       1 0.0255  0.00\n",
      "ex1            TyrMes_8                 0.00        0.0023       1 0.0039  0.00\n",
      "ex1            TyrMes_9                 0.00        0.0001       1 0.0004  0.00\n",
      "ex1            ValMes_0                 0.00        0.0256       1 0.1302  0.00\n",
      "ex1            ValMes_1                 0.00        0.2246       1 0.2622  0.00\n",
      "ex1            ValMes_2                 0.00        0.4149       1 0.3395  0.00\n",
      "ex1            ValMes_3                 0.00        0.2717       1 0.2167  0.00\n",
      "ex1            ValMes_4                 0.00        0.0594       1 0.0473  0.00\n",
      "ex1            ValMes_5                 0.00        0.0038       1 0.0041  0.00\n",
      "\n"
     ]
    }
   ],
   "source": [
    "# Flux estimation step 3: Fitting model\n",
    "for method in [\"GN_CRS2_LM\", \"LN_PRAXIS\", \"SLSQP\"]:\n",
    "    endstate, RSS, flux = model.fitting_flux(method = method, flux = flux)\n",
    "model.show_results([(\"final\", flux[0])]) # Show result"
   ]
  },
  {
   "cell_type": "code",
   "execution_count": null,
   "metadata": {},
   "outputs": [],
   "source": [
    "# Estimation of 95% CI\n",
    "ci_edge = model.generate_ci_template(targets = [('reaction', \"v3\")])\n",
    "ci = model.search_ci(ci_edge, flux[0], method = 'grid')\n",
    "lb = ci['data'][('reaction', \"v3\")]['lower_boundary']\n",
    "ub = ci['data'][('reaction', \"v3\")]['upper_boundary']\n",
    "print(\"v3\", \"Lower bondary:\",lb, \"Upper boundary:\", ub)"
   ]
  },
  {
   "cell_type": "code",
   "execution_count": null,
   "metadata": {},
   "outputs": [],
   "source": [
    "#Run mfapy code here:"
   ]
  },
  {
   "cell_type": "code",
   "execution_count": null,
   "metadata": {},
   "outputs": [],
   "source": [
    "#Output data code goes here:\n",
    "\n",
    "  # Output fitted metabolic flux into CSV file\n",
    "\n",
    "output_file = input(\"Enter desired name of output .csv file: \")\n",
    "    \n",
    "model.show_results(results, filename = output_file,  checkrss = \"on\", format = \"csv\")\n",
    "    \n",
    "    # Output fitted metabolic flux in console\n",
    "    \n",
    "model.show_results(results,  checkrss = \"on\")\n",
    "    \n",
    "    # Output flux balance of given metabolite\n",
    "    \n",
    "model.show_flux_balance(results, \"Fum\")\n",
    "model.show_flux_balance(results, \"Fum\", filename = \"Explanation_1_13CMFA_metabolite_balance.csv\", format = \"csv\")"
   ]
  },
  {
   "cell_type": "code",
   "execution_count": null,
   "metadata": {},
   "outputs": [],
   "source": []
  }
 ],
 "metadata": {
  "kernelspec": {
   "display_name": "Python 3",
   "language": "python",
   "name": "python3"
  },
  "language_info": {
   "codemirror_mode": {
    "name": "ipython",
    "version": 3
   },
   "file_extension": ".py",
   "mimetype": "text/x-python",
   "name": "python",
   "nbconvert_exporter": "python",
   "pygments_lexer": "ipython3",
   "version": "3.8.5"
  }
 },
 "nbformat": 4,
 "nbformat_minor": 4
}
