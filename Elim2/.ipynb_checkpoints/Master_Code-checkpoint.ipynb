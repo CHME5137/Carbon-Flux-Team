{
 "cells": [
  {
   "cell_type": "code",
   "execution_count": 1,
   "metadata": {},
   "outputs": [],
   "source": [
    "import mfapy\n",
    "%matplotlib inline\n",
    "import numpy as np\n",
    "import scipy.integrate\n",
    "from matplotlib import pyplot as plt"
   ]
  },
  {
   "cell_type": "markdown",
   "metadata": {},
   "source": [
    "Outline for Master Code:\n",
    "- Introduction markdown cell -> introduce code and what exactly it does\n",
    "- Try some fancy markdown figures for model/model description\n",
    "- Input cells -> have user input raw data (MDV files)\n",
    "- Code to set up model and make necessary variables\n",
    "- Code to run mfapy and display flux data\n",
    "- Output in some graphs/tables\n",
    "- Add extra spice as needed :)"
   ]
  },
  {
   "cell_type": "code",
   "execution_count": 2,
   "metadata": {
    "scrolled": true
   },
   "outputs": [
    {
     "name": "stdin",
     "output_type": "stream",
     "text": [
      "Enter the name of the metabolic model .txt file:  Elim2_model.txt\n",
      "Enter the name of the .csv file containing the parameters:  Elim2_status.csv\n",
      "Enter the name of the MDV .txt file:  Elim2_mdv.txt\n"
     ]
    }
   ],
   "source": [
    "#Input Checklist:\n",
    "# - Simulation model .txt file --> defines reactions and metabolites\n",
    "# - Simulation .csv file --> code calls values from the cells of this file\n",
    "# - MDV data .txt file --> code calls values from this file to compute carbon fluxes\n",
    "\n",
    "# User input code goes here:\n",
    "\n",
    "simulation_model = input(\"Enter the name of the metabolic model .txt file: \")\n",
    "\n",
    "simulation_csv = input(\"Enter the name of the .csv file containing the parameters: \")\n",
    "\n",
    "MDV_data = input(\"Enter the name of the MDV .txt file: \")"
   ]
  },
  {
   "cell_type": "code",
   "execution_count": 4,
   "metadata": {},
   "outputs": [
    {
     "name": "stdout",
     "output_type": "stream",
     "text": [
      "MDV.txt\n"
     ]
    }
   ],
   "source": [
    "print(MDV_data)"
   ]
  },
  {
   "cell_type": "code",
   "execution_count": 3,
   "metadata": {
    "scrolled": true
   },
   "outputs": [
    {
     "data": {
      "text/plain": [
       "True"
      ]
     },
     "execution_count": 3,
     "metadata": {},
     "output_type": "execute_result"
    }
   ],
   "source": [
    "#Dumping some set up code here from Explanation 1:\n",
    "\n",
    "#sets up model variables using simulation model.txt file\n",
    "reactions, reversible, metabolites, target_fragments = mfapy.mfapyio.load_metabolic_model(simulation_model, format=\"text\")\n",
    "model = mfapy.metabolicmodel.MetabolicModel(reactions, reversible, metabolites, target_fragments)\n",
    "\n",
    "#configurations -> investigate what these actually do and if we need to change them\n",
    "#model.set_configuration(callbacklevel = 1) # Frequency level of callbacks from metabolic model\n",
    "#model.set_configuration(iteration_max = 10000) # Maximal number of interations (steps) in each fitting task\n",
    "#model.set_configuration(initial_search_repeats_in_grid_search = 5) # Number of initial metabolic flux disributions generated for each trial in grid search.\n",
    "#model.set_configuration(initial_search_iteration_max = 1000) # Maximal number of interations (steps) allowed in each task to find feasible initial metabolic flux distribution.\n",
    "#model.set_configuration(grid_search_iterations = 1) # Number of trials for model fitting at each point in grid search.\n",
    "#model.set_configuration(number_of_repeat = 3) # Iteration in self.fitting_flux(method = 'deep') [SLSQP => LN_PRAXIS] * n\n",
    "#model.set_configuration(ncpus = 4) # Number of CPUs for Parallel processing\n",
    "\n",
    "#loads states and values from .csv file\n",
    "flux = model.load_states(simulation_csv, format = 'csv')\n",
    "model.set_constraints_from_state_dict(flux)\n",
    "model.update()"
   ]
  },
  {
   "cell_type": "code",
   "execution_count": 4,
   "metadata": {},
   "outputs": [
    {
     "name": "stdout",
     "output_type": "stream",
     "text": [
      "False compound name\n"
     ]
    },
    {
     "data": {
      "text/plain": [
       "False"
      ]
     },
     "execution_count": 4,
     "metadata": {},
     "output_type": "execute_result"
    }
   ],
   "source": [
    "# Generation of CarbonSource instance\n",
    "cs1 = model.generate_carbon_source_template()\n",
    "cs1.set_each_isotopomer('CO2', {'#1':1.0})\n",
    "#cs2 = model.generate_carbon_source_template()\n",
    "#cs2.set_each_isotopomer('AcCoA', {'#11':0.5})\n",
    "# What, if any, isotopomers do we need to set?"
   ]
  },
  {
   "cell_type": "code",
   "execution_count": 12,
   "metadata": {},
   "outputs": [
    {
     "data": {
      "text/plain": [
       "True"
      ]
     },
     "execution_count": 12,
     "metadata": {},
     "output_type": "execute_result"
    }
   ],
   "source": [
    " # Isotope labelling of carbon sources from mfapy Ex#2\n",
    "    #\n",
    "carbon_source1 = model.generate_carbon_source_templete()\n",
    "#carbon_source1.set_each_isotopomer('SubsGlc',{'#000000': 0.02, '#100000': 0.7, '#111111': 0.28 }, \n",
    "carbon_source1.set_each_isotopomer('SubsCO2',{'#0': 1.0, '#1': 0.0}, correction = 'no') #correction = 'yes')\n",
    "#"
   ]
  },
  {
   "cell_type": "code",
   "execution_count": 7,
   "metadata": {},
   "outputs": [],
   "source": [
    "# Load MDV data\n",
    "mdv1 = model.load_mdv_data(MDV_data) #string variable from user input\n",
    "\n",
    "#include more if there are more data files"
   ]
  },
  {
   "cell_type": "code",
   "execution_count": 8,
   "metadata": {},
   "outputs": [
    {
     "data": {
      "text/plain": [
       "True"
      ]
     },
     "execution_count": 8,
     "metadata": {},
     "output_type": "execute_result"
    }
   ],
   "source": [
    "# Flux estimation Step 1: Setting experimments\n",
    "model.set_experiment('ex1', mdv1, cs1)\n",
    "#include more for more data sets"
   ]
  },
  {
   "cell_type": "code",
   "execution_count": 9,
   "metadata": {},
   "outputs": [],
   "source": [
    "# Flux estimation step 2: Generation of intical flux vectors\n",
    "endstate, flux = model.generate_initial_states(50, 4, method =\"normal\") #method =\"parallel\")\n"
   ]
  },
  {
   "cell_type": "code",
   "execution_count": null,
   "metadata": {},
   "outputs": [],
   "source": [
    "model.generate_initial_states?"
   ]
  },
  {
   "cell_type": "code",
   "execution_count": 11,
   "metadata": {
    "scrolled": true
   },
   "outputs": [
    {
     "name": "stdout",
     "output_type": "stream",
     "text": [
      "Id             Reaction                 External i   final\n",
      "RSS                                               107919.22\n",
      "Thres                                                79.08\n",
      "p_value                                               0.00\n",
      "Id             Reaction                 External i   final Type     Value Stdev    lb    ub Atom_mapping             \n",
      "r1             SubsGlc-->G6P            (kegg:R028   105.2 fitting  100.0   1.6   0.01000.0 ABCDEF-->ABCDEF          \n",
      "r2             G6P-->F6P                (kegg:R007   409.7 free       1.0   1.0   0.01000.0 ABCDEF-->ABCDEF          \n",
      "r3             F6P-->G6P                (kegg:R007   639.4 free       1.0   1.0   0.01000.0 ABCDEF-->ABCDEF          \n",
      "r4             F6P-->FBP                (kegg:R007   164.1 free       1.0   1.0   0.01000.0 ABCDEF-->ABCDEF          \n",
      "r5             FBP-->F6P                (kegg:R010   288.6 free       1.0   1.0   0.01000.0 ABCDEF-->ABCDEF          \n",
      "r6             FBP-->DHAP+GAP           (kegg:R010    72.1 free       1.0   1.0   0.01000.0 ABCDEF-->CBA+DEF         \n",
      "r7             DHAP+GAP-->FBP           (kegg:R010   196.5 free       1.0   1.0   0.01000.0 CBA+DEF-->ABCDEF         \n",
      "r8             DHAP-->GAP               (kegg:R010   129.5 free       1.0   1.0   0.01000.0 ABC-->ABC                \n",
      "r9             GAP-->DHAP               (kegg:R010   254.5 free       1.0   1.0   0.01000.0 ABC-->ABC                \n",
      "r10            GAP-->PGA                (kegg:R010   785.4 free       1.0   1.0   0.01000.0 ABC-->ABC                \n",
      "r11            PGA-->GAP                (kegg:R015   812.3 free       1.0   1.0   0.01000.0 ABC-->ABC                \n",
      "r12            PGA-->PEP                (kegg:R015   335.2 free       1.0   1.0   0.01000.0 ABC-->ABC                \n",
      "r13            PEP-->PGA                (kegg:R002   369.3 free       1.0   1.0   0.01000.0 ABC-->ABC                \n",
      "r14            PEP-->Pyr                (kegg:R011   615.3 free       1.0   1.0   0.01000.0 ABC-->ABC                \n",
      "r15            Pyr-->PEP                (kegg:R003   840.7 free       1.0   1.0   0.01000.0 ABC-->ABC                \n",
      "r16            Pyr-->AcCOA+CO2in        (kegg:R007   146.7 free       1.0   1.0   0.01000.0 ABC-->BC+A               \n",
      "r17            AcCOA+Oxa-->IsoCit       (kegg:R007    45.0 free       1.0   1.0   0.01000.0 AB+CDEF-->FEDBAC         \n",
      "r18            IsoCit-->aKG+CO2in       (kegg:R011     5.0 free       1.0   1.0   0.01000.0 ABCDEF-->ABCDE+F         \n",
      "r19            aKG-->Suc+CO2in          (kegg:R021     0.0 free       1.0   1.0   0.01000.0 ABCDE-->BCDE+A           \n",
      "r20            Suc-->Fum                (kegg:R021   424.1 free       1.0   1.0   0.01000.0 ABCD-->ABCD              \n",
      "r21            Fum-->Suc                (kegg:R010   384.1 free       1.0   1.0   0.01000.0 ABCD-->ABCD              \n",
      "r22            Fum-->Mal                (kegg:R010   422.3 free       1.0   1.0   0.01000.0 ABCD-->ABCD              \n",
      "r23            Mal-->Fum                (kegg:R003   382.3 free       1.0   1.0   0.01000.0 ABCD-->ABCD              \n",
      "r24            Mal-->Oxa                (kegg:R003   671.8 free       1.0   1.0   0.01000.0 ABCD-->ABCD              \n",
      "r25            Oxa-->Mal                (kegg:R003   806.6 free       1.0   1.0   0.01000.0 ABCD-->ABCD              \n",
      "r26            IsoCit+AcCOA-->Mal+Suc   (kegg:R002    40.0 free       1.0   1.0   0.01000.0 ABCDEF+GH-->ABHG+FCDE    \n",
      "r27            G6P-->m6PG               (kegg:R008   334.0 free       1.0   1.0   0.01000.0 ABCDEF-->ABCDEF          \n",
      "r28            m6PG-->Ru5P+CO2in        (kegg:R015   163.5 free       1.0   1.0   0.01000.0 ABCDEF-->BCDEF+A         \n",
      "r29            Ru5P-->R5P               (kegg:R010   953.2 free       1.0   1.0   0.01000.0 ABCDE-->ABCDE            \n",
      "r30            R5P-->Ru5P               (kegg:R010   895.4 free       1.0   1.0   0.01000.0 ABCDE-->ABCDE            \n",
      "r31            Ru5P-->Xu5P              (kegg:R015   369.8 free       1.0   1.0   0.01000.0 ABCDE-->ABCDE            \n",
      "r32            Xu5P-->Ru5P              (kegg:R015   264.1 free       1.0   1.0   0.01000.0 ABCDE-->ABCDE            \n",
      "r33            R5P+Xu5P-->S7P+GAP       (kegg:R016   165.7 free       1.0   1.0   0.01000.0 ABCDE+FGHIJ-->FGABCDE+HIJ\n",
      "r34            GAP+S7P-->Xu5P+R5P       (kegg:R016   112.1 free       1.0   1.0   0.01000.0 HIJ+FGABCDE-->FGHIJ+ABCDE\n",
      "r35            GAP+S7P-->F6P+E4P        (kegg:R085   874.6 free       1.0   1.0   0.01000.0 ABC+DEFGHIJ-->DEFABC+GHIJ\n",
      "r36            E4P+F6P-->S7P+GAP        (kegg:R085   820.9 free       1.0   1.0   0.01000.0 GHIJ+DEFABC-->DEFGHIJ+ABC\n",
      "r37            E4P+Xu5P-->F6P+GAP       (kegg:R010   186.2 free       1.0   1.0   0.01000.0 ABCD+EFGHI-->EFABCD+GHI  \n",
      "r38            GAP+F6P-->Xu5P+E4P       (kegg:R010   134.2 free       1.0   1.0   0.01000.0 GHI+EFABCD-->EFGHI+ABCD  \n",
      "r39            m6PG-->Pyr+GAP           (kegg:R007   170.5 free       1.0   1.0   0.01000.0 ABCDEF-->ABC+DEF         \n",
      "r40            PEP+CO2in-->Oxa          (kegg:Lace   689.2 free       1.0   1.0   0.01000.0 ABC+D-->ABCD             \n",
      "r41            Oxa-->PEP+CO2in          (kegg:Subs   501.2 free       1.0   1.0   0.01000.0 ABCD-->ABC+D             \n",
      "r42            Mal-->Pyr+CO2in          (kegg:R002   214.7 free       1.0   1.0   0.01000.0 ABCD-->ABC+D             \n",
      "r43            AcCOA+AcCOA-->AcAcCOA    (kegg:R002     9.5 free       1.0   1.0   0.01000.0 AB+CD-->ABCD             \n",
      "r44            AcAcCOA+Acetate-->AcAc+Ac(kegg:R002     9.5 free       1.0   1.0   0.01000.0 ABCD+EF-->ABCD+EF        \n",
      "r45            AcAc-->Acetone+CO2in     (kegg:Glu1     9.5 free       1.0   1.0   0.01000.0 ABCD-->BCD+A             \n",
      "r46            Acetone-->IPA            (kegg:Pro)     9.5 free       1.0   1.0   0.01000.0 ABC-->ABC                \n",
      "r47            Acetone-->Acetoneex      (kegg:Proe     0.0 fitting    1.5   1.0   0.01000.0 nd                       \n",
      "r48            IPA-->IPAex              (kegg:R003     9.5 fitting   13.3   1.5   0.01000.0 nd                       \n",
      "r49            AcCOA-->Acetate          (kegg:Aspe    38.7 free       1.0   1.0   0.01000.0 AB-->AB                  \n",
      "r50            Acetate-->Acetateex      (kegg:R004    29.2 fitting   36.8   2.8   0.01000.0 nd                       \n",
      "r51            Pyr-->AcCOA+Formate      (kegg:Asne     0.0 free       1.0   1.0   0.01000.0 ABC-->BC+A               \n",
      "r52            Formate-->Formateex      (kegg:R002     0.0 fixed      0.0   1.0   0.01000.0 nd                       \n",
      "r53            Suc-->Succinateex        (kegg:Alae     0.0 fixed      0.0   1.0   0.01000.0 nd                       \n",
      "r54            IsoCit-->Citrateex       (kegg:Subs     0.0 fixed      0.0   1.0   0.01000.0 nd                       \n",
      "r55            aKG-->a-ketoglutarateex  (kegg:Subs     0.0 fixed      0.0   1.0   0.01000.0 nd                       \n",
      "r56            SubsCO2-->CO2in          (kegg:Subs   133.4 free       1.0   1.0   0.01000.0 A-->A                    \n",
      "r57            CO2in-->CO2ex            (kegg:Glu)   484.9 free       1.0   1.0   0.01000.0 nd                       \n",
      "r58            Pyr-->Ala                (kegg:Arg)     4.9 pseudo     1.0   1.0   0.01000.0 ABC-->ABC                \n",
      "r59            Oxa-->Asp                (kegg:R003     0.0 pseudo     1.0   1.0   0.01000.0 ABCD-->ABCD              \n",
      "r60            Oxa-->Thr                (kegg:Biom     0.0 pseudo     1.0   1.0   0.01000.0 ABCD-->ABCD              \n",
      "r61            aKG-->Glu                (kegg:Biom     2.7 pseudo     1.0   1.0   0.01000.0 ABCDE-->ABCDE            \n",
      "r62            E4P+PEP+PEP-->Phe        (kegg:Biom     0.0 pseudo     1.0   1.0   0.01000.0 ABCD+EFG+HIJ-->EFGIJABCD \n",
      "r63            E4P+PEP+PEP-->Tyr        (kegg:Biom     0.0 pseudo     1.0   1.0   0.01000.0 ABCD+EFG+HIJ-->EFGIJABCD \n",
      "r64            Oxa+Pyr-->Ile            (kegg:R015     0.6 pseudo     1.0   1.0   0.01000.0 ABCD+EFG-->ABFGCD        \n",
      "r65            AcCOA+Pyr+Pyr-->Leu      (kegg:Biom    10.0 pseudo     1.0   1.0   0.01000.0 AB+CDE+FGH-->ABDEGH      \n",
      "r66            Pyr+Pyr-->Val            (kegg:Biom     3.8 pseudo     1.0   1.0   0.01000.0 ABC+DEF-->ABECF          \n",
      "r67            PGA-->Ser                (kegg:Biom     4.5 free       1.0   1.0   0.01000.0 ABC-->ABC                \n",
      "r68            Ser-->Gly+MEETHF         (kegg:Glu2   464.1 free       1.0   1.0   0.01000.0 ABC-->AB+C               \n",
      "r69            Gly+MEETHF-->Ser         (kegg:Biom   461.2 free       1.0   1.0   0.01000.0 AB+C-->ABC               \n",
      "r70            Gly-->CO2in+MEETHF       (kegg:Biom   556.2 free       1.0   1.0   0.01000.0 AB-->A+B                 \n",
      "r71            CO2in+MEETHF-->Gly       (kegg:Biom   556.0 free       1.0   1.0   0.01000.0 A+B-->AB                 \n",
      "r72            G6P-->Biomass            (kegg:Biom     1.0 fixed      1.0   1.0   0.01000.0 nd                       \n",
      "r73            F6P-->Biomass            (kegg:Biom     0.3 fixed      0.3   1.0   0.01000.0 nd                       \n",
      "r74            DHAP-->Biomass           (kegg:Biom     0.6 fixed      0.6   1.0   0.01000.0 nd                       \n",
      "r75            PGA-->Biomass            (kegg:CO2e     2.6 fixed      2.6   1.0   0.01000.0 nd                       \n",
      "r76            Ser-->Biomass            (kegg:Subs     1.6 fixed      1.6   1.0   0.01000.0 nd                       \n",
      "r77            Gly-->Biomass            (keggPGAex     2.7 fixed      2.7   1.0   0.01000.0 nd                       \n",
      "r78            MEETHF-->Biomass         (kegg:FAex     3.1 fixed      3.1   1.0   0.01000.0 nd                       \n",
      "r79            PEP-->Biomass            (kegg:MAL_     3.3 fixed      3.3   1.0   0.01000.0 nd                       \n",
      "r80            Pyr-->Biomass            (kegg:MAL_    13.1 fixed     13.1   1.0   0.01000.0 nd                       \n",
      "r81            AcCOA-->Biomass          (kegg:OXA_    13.6 fixed     13.6   1.0   0.01000.0 nd                       \n",
      "r82            aKG-->Biomass            (kegg:OXA_     5.0 fixed      5.0   1.0   0.01000.0 nd                       \n",
      "r83            Oxa-->Biomass            (kegg:ATP)     8.3 fixed      8.3   1.0   0.01000.0 nd                       \n",
      "r84            R5P-->Biomass            (kegg:NADH     4.2 fixed      4.2   1.0   0.01000.0 nd                       \n",
      "r85            E4P-->Biomass            (kegg:NADP     1.7 fixed      1.7   1.0   0.01000.0 nd                       \n",
      "r86            Ala-->Alaex              (kegg:Arg)    10.0 fixed     10.0   1.0   0.01000.0 nd                       \n",
      "r87            Asp-->Aspex              (kegg:R003    10.0 fixed     10.0   1.0   0.01000.0 nd                       \n",
      "r88            Thr-->Threx              (kegg:Biom    10.0 fixed     10.0   1.0   0.01000.0 nd                       \n",
      "r89            Glu-->Gluex              (kegg:Biom    10.0 fixed     10.0   1.0   0.01000.0 nd                       \n",
      "r90            Phe-->Pheex              (kegg:Biom    10.0 fixed     10.0   1.0   0.01000.0 nd                       \n",
      "r91            Tyr-->Tyrex              (kegg:Biom    10.0 fixed     10.0   1.0   0.01000.0 nd                       \n",
      "r92            Ile-->Ileex              (kegg:R015    10.0 fixed     10.0   1.0   0.01000.0 nd                       \n",
      "r93            Leu-->Leuex              (kegg:Biom    10.0 fixed     10.0   1.0   0.01000.0 nd                       \n",
      "r94            Val-->Valex              (kegg:Biom    10.0 fixed     10.0   1.0   0.01000.0 nd                       \n",
      "r95            SubsAla-->Ala            (kegg:Arg)     5.1 free       1.0   1.0   0.01000.0 ABC-->ABC                \n",
      "r96            SubsAsp-->Asp            (kegg:R003    10.0 free       1.0   1.0   0.01000.0 ABCD-->ABCD              \n",
      "r97            SubsThr-->Thr            (kegg:Biom    10.0 free       1.0   1.0   0.01000.0 ABCD-->ABCD              \n",
      "r98            SubsGlu-->Glu            (kegg:Biom     7.3 free       1.0   1.0   0.01000.0 ABCDE-->ABCDE            \n",
      "r99            SubsPhe-->Phe            (kegg:Biom    10.0 free       1.0   1.0   0.01000.0 ABCDEFGHI-->ABCDEFGHI    \n",
      "r100           SubsTyr-->Tyr            (kegg:Biom    10.0 free       1.0   1.0   0.01000.0 ABCDEFGHI-->ABCDEFGHI    \n",
      "r101           SubsIle-->Ile            (kegg:R015     9.4 free       1.0   1.0   0.01000.0 ABCDEF-->ABCDEF          \n",
      "r102           SubsLeu-->Leu            (kegg:Biom     0.0 free       1.0   1.0   0.01000.0 ABCDEF-->ABCDEF          \n",
      "r103           SubsVal-->Val            (kegg:Biom     6.2 free       1.0   1.0   0.01000.0 ABCDE-->ABCDE            \n",
      "PGI            r2<=>r3                  (kegg:R007  -229.7 free       1.0   1.0-300.0 300.0                          \n",
      "FBA            r4<=>r5                  (kegg:R010  -124.4 free       1.0   1.0-300.0 300.0                          \n",
      "TPI            r8<=>r9                  (kegg:R010  -125.0 free       1.0   1.0-300.0 300.0                          \n",
      "GAPDH          r10<=>r11                (kegg:R010   -26.9 free       1.0   1.0-300.0 300.0                          \n",
      "PEPH           r12<=>r13                (kegg:R015   -34.1 free       1.0   1.0-300.0 300.0                          \n",
      "SDH            r20<=>r21                (kegg:R021    40.0 free       1.0   1.0-300.0 300.0                          \n",
      "MDH            r24<=>r25                (kegg:R003  -134.7 free       1.0   1.0-300.0 300.0                          \n",
      "RPI            r29<=>r30                (kegg:R010    57.8 free       1.0   1.0-300.0 300.0                          \n",
      "RBE            r31<=>r32                (kegg:R015   105.7 free       1.0   1.0-300.0 300.0                          \n",
      "TKT1           r33<=>r34                (kegg:R016    53.7 free       1.0   1.0-300.0 300.0                          \n",
      "TAL            r35<=>r36                (kegg:R085    53.7 free       1.0   1.0-300.0 300.0                          \n",
      "TKT2           r37<=>r38                (kegg:R010    52.0 free       1.0   1.0-300.0 300.0                          \n",
      "FH             r22<=>r23                (kegg:R010    40.0 free       1.0   1.0-300.0 300.0                          \n",
      "Experiment     Fragment_N               Time         final     Use  Ratio Stdev\n",
      "ex1            Ala[M-57]_0              0.00        1.0000       1 0.3137  0.01\n",
      "ex1            Ala[M-57]_1              0.00       -0.0000       1 0.4005  0.01\n",
      "ex1            Ala[M-57]_2              0.00       -0.0000       1 0.0249  0.01\n",
      "ex1            Ala[M-57]_3              0.00       -0.0000       1 0.2609  0.01\n",
      "ex1            Ala[M-85]_0              0.00        1.0000       1 0.6981  0.01\n",
      "ex1            Ala[M-85]_1              0.00       -0.0000       1 0.0338  0.01\n",
      "ex1            Ala[M-85]_2              0.00       -0.0000       1 0.2681  0.01\n",
      "ex1            Asp[M-57]_0              0.00        1.0000       1 0.3747  0.01\n",
      "ex1            Asp[M-57]_1              0.00       -0.0000       1 0.2565  0.01\n",
      "ex1            Asp[M-57]_2              0.00       -0.0000       1 0.2081  0.01\n",
      "ex1            Asp[M-57]_3              0.00       -0.0000       1 0.0979  0.01\n",
      "ex1            Asp[M-57]_4              0.00       -0.0000       1 0.0628  0.01\n",
      "ex1            Asp[M-85]_0              0.00        1.0000       1 0.4540  0.01\n",
      "ex1            Asp[M-85]_1              0.00       -0.0000       1 0.2986  0.01\n",
      "ex1            Asp[M-85]_2              0.00       -0.0000       1 0.1578  0.01\n",
      "ex1            Asp[M-85]_3              0.00       -0.0000       1 0.0895  0.01\n",
      "ex1            Asp[f302]_0              0.00        1.0000       1 0.5867  0.01\n",
      "ex1            Asp[f302]_1              0.00       -0.0000       1 0.2036  0.01\n",
      "ex1            Asp[f302]_2              0.00       -0.0000       1 0.2097  0.01\n",
      "ex1            Glu[M-159]_0             0.00        1.0000       1 0.4171  0.01\n",
      "ex1            Glu[M-159]_1             0.00       -0.0000       1 0.2122  0.01\n",
      "ex1            Glu[M-159]_2             0.00       -0.0000       1 0.2563  0.01\n",
      "ex1            Glu[M-159]_3             0.00       -0.0000       1 0.0775  0.01\n",
      "ex1            Glu[M-159]_4             0.00       -0.0000       1 0.0370  0.01\n",
      "ex1            Glu[M-57]_0              0.00        1.0000       1 0.3235  0.01\n",
      "ex1            Glu[M-57]_1              0.00       -0.0000       1 0.2252  0.01\n",
      "ex1            Glu[M-57]_2              0.00       -0.0000       1 0.2387  0.01\n",
      "ex1            Glu[M-57]_3              0.00       -0.0000       1 0.1445  0.01\n",
      "ex1            Glu[M-57]_4              0.00       -0.0000       1 0.0445  0.01\n",
      "ex1            Glu[M-57]_5              0.00       -0.0000       1 0.0237  0.01\n",
      "ex1            Glu[M-85]_0              0.00        1.0000       1 0.4157  0.01\n",
      "ex1            Glu[M-85]_1              0.00       -0.0000       1 0.2126  0.01\n",
      "ex1            Glu[M-85]_2              0.00       -0.0000       1 0.2567  0.01\n",
      "ex1            Glu[M-85]_3              0.00       -0.0000       1 0.0780  0.01\n",
      "ex1            Glu[M-85]_4              0.00       -0.0000       1 0.0371  0.01\n",
      "ex1            Gly[M-57]_0              0.00        1.0000       1 0.6342  0.01\n",
      "ex1            Gly[M-57]_1              0.00       -0.0000       1 0.1054  0.01\n",
      "ex1            Gly[M-57]_2              0.00       -0.0000       1 0.2604  0.01\n",
      "ex1            Gly[M-85]_0              0.00        1.0000       1 0.7201  0.01\n",
      "ex1            Gly[M-85]_1              0.00       -0.0000       1 0.2799  0.01\n",
      "ex1            Ile[M-159]_0             0.00        1.0000       1 0.3174  0.01\n",
      "ex1            Ile[M-159]_1             0.00       -0.0000       1 0.2199  0.01\n",
      "ex1            Ile[M-159]_2             0.00       -0.0000       1 0.2428  0.01\n",
      "ex1            Ile[M-159]_3             0.00       -0.0000       1 0.1481  0.01\n",
      "ex1            Ile[M-159]_4             0.00       -0.0000       1 0.0473  0.01\n",
      "ex1            Ile[M-159]_5             0.00       -0.0000       1 0.0244  0.01\n",
      "ex1            Ile[M-85]_0              0.00        1.0000       1 0.3182  0.01\n",
      "ex1            Ile[M-85]_1              0.00       -0.0000       1 0.2206  0.01\n",
      "ex1            Ile[M-85]_2              0.00       -0.0000       1 0.2402  0.01\n",
      "ex1            Ile[M-85]_3              0.00       -0.0000       1 0.1486  0.01\n",
      "ex1            Ile[M-85]_4              0.00       -0.0000       1 0.0471  0.01\n",
      "ex1            Ile[M-85]_5              0.00       -0.0000       1 0.0253  0.01\n",
      "ex1            Phe[M-159]_0             0.00        1.0000       1 0.2327  0.01\n",
      "ex1            Phe[M-159]_1             0.00       -0.0000       1 0.1420  0.01\n",
      "ex1            Phe[M-159]_2             0.00       -0.0000       1 0.1931  0.01\n",
      "ex1            Phe[M-159]_3             0.00       -0.0000       1 0.1889  0.01\n",
      "ex1            Phe[M-159]_4             0.00       -0.0000       1 0.0958  0.01\n",
      "ex1            Phe[M-159]_5             0.00       -0.0000       1 0.0902  0.01\n",
      "ex1            Phe[M-159]_6             0.00       -0.0000       1 0.0363  0.01\n",
      "ex1            Phe[M-159]_7             0.00       -0.0000       1 0.0149  0.01\n",
      "ex1            Phe[M-159]_8             0.00       -0.0000       1 0.0060  0.01\n",
      "ex1            Phe[M-57]_0              0.00        1.0000       1 0.1695  0.01\n",
      "ex1            Phe[M-57]_1              0.00       -0.0000       1 0.1651  0.01\n",
      "ex1            Phe[M-57]_2              0.00       -0.0000       1 0.1222  0.01\n",
      "ex1            Phe[M-57]_3              0.00       -0.0000       1 0.2150  0.01\n",
      "ex1            Phe[M-57]_4              0.00       -0.0000       1 0.1301  0.01\n",
      "ex1            Phe[M-57]_5              0.00       -0.0000       1 0.0813  0.01\n",
      "ex1            Phe[M-57]_6              0.00       -0.0000       1 0.0731  0.01\n",
      "ex1            Phe[M-57]_7              0.00       -0.0000       1 0.0241  0.01\n",
      "ex1            Phe[M-57]_8              0.00       -0.0000       1 0.0139  0.01\n",
      "ex1            Phe[M-57]_9              0.00       -0.0000       1 0.0057  0.01\n",
      "ex1            Phe[M-85]_0              0.00        1.0000       1 0.2332  0.01\n",
      "ex1            Phe[M-85]_1              0.00       -0.0000       1 0.1407  0.01\n",
      "ex1            Phe[M-85]_2              0.00       -0.0000       1 0.1941  0.01\n",
      "ex1            Phe[M-85]_3              0.00       -0.0000       1 0.1892  0.01\n",
      "ex1            Phe[M-85]_4              0.00       -0.0000       1 0.0955  0.01\n",
      "ex1            Phe[M-85]_5              0.00       -0.0000       1 0.0902  0.01\n",
      "ex1            Phe[M-85]_6              0.00       -0.0000       1 0.0366  0.01\n",
      "ex1            Phe[M-85]_7              0.00       -0.0000       1 0.0148  0.01\n",
      "ex1            Phe[M-85]_8              0.00       -0.0000       1 0.0058  0.01\n",
      "ex1            Phe[f302]_0              0.00        1.0000       1 0.5079  0.01\n",
      "ex1            Phe[f302]_1              0.00       -0.0000       1 0.2282  0.01\n",
      "ex1            Phe[f302]_2              0.00       -0.0000       1 0.2639  0.01\n",
      "ex1            Ser[M-159]_0             0.00        1.0000       1 0.6555  0.01\n",
      "ex1            Ser[M-159]_1             0.00       -0.0000       1 0.1383  0.01\n",
      "ex1            Ser[M-159]_2             0.00       -0.0000       1 0.2062  0.01\n",
      "ex1            Ser[M-57]_0              0.00        1.0000       1 0.5936  0.01\n",
      "ex1            Ser[M-57]_1              0.00       -0.0000       1 0.1325  0.01\n",
      "ex1            Ser[M-57]_2              0.00       -0.0000       1 0.0731  0.01\n",
      "ex1            Ser[M-57]_3              0.00       -0.0000       1 0.2008  0.01\n",
      "ex1            Ser[M-85]_0              0.00        1.0000       1 0.6572  0.01\n",
      "ex1            Ser[M-85]_1              0.00       -0.0000       1 0.1346  0.01\n",
      "ex1            Ser[M-85]_2              0.00       -0.0000       1 0.2083  0.01\n",
      "ex1            Thr[M-57]_0              0.00        1.0000       1 0.3713  0.01\n",
      "ex1            Thr[M-57]_1              0.00       -0.0000       1 0.2573  0.01\n",
      "ex1            Thr[M-57]_2              0.00       -0.0000       1 0.2078  0.01\n",
      "ex1            Thr[M-57]_3              0.00       -0.0000       1 0.0999  0.01\n",
      "ex1            Thr[M-57]_4              0.00       -0.0000       1 0.0637  0.01\n",
      "ex1            Thr[M-85]_0              0.00        1.0000       1 0.4539  0.01\n",
      "ex1            Thr[M-85]_1              0.00       -0.0000       1 0.2965  0.01\n",
      "ex1            Thr[M-85]_2              0.00       -0.0000       1 0.1615  0.01\n",
      "ex1            Thr[M-85]_3              0.00       -0.0000       1 0.0881  0.01\n",
      "ex1            Tyr[f302]_0              0.00        1.0000       1 0.5076  0.01\n",
      "ex1            Tyr[f302]_1              0.00       -0.0000       1 0.2272  0.01\n",
      "ex1            Tyr[f302]_2              0.00       -0.0000       1 0.2652  0.01\n",
      "ex1            Val[M-57]_0              0.00        1.0000       1 0.2212  0.01\n",
      "ex1            Val[M-57]_1              0.00       -0.0000       1 0.2996  0.01\n",
      "ex1            Val[M-57]_2              0.00       -0.0000       1 0.1067  0.01\n",
      "ex1            Val[M-57]_3              0.00       -0.0000       1 0.2899  0.01\n",
      "ex1            Val[M-57]_4              0.00       -0.0000       1 0.0135  0.01\n",
      "ex1            Val[M-57]_5              0.00       -0.0000       1 0.0691  0.01\n",
      "ex1            Val[M-85]_0              0.00        1.0000       1 0.4937  0.01\n",
      "ex1            Val[M-85]_1              0.00       -0.0000       1 0.0451  0.01\n",
      "ex1            Val[M-85]_2              0.00       -0.0000       1 0.3737  0.01\n",
      "ex1            Val[M-85]_3              0.00       -0.0000       1 0.0153  0.01\n",
      "ex1            Val[M-85]_4              0.00       -0.0000       1 0.0723  0.01\n",
      "\n"
     ]
    }
   ],
   "source": [
    "# Flux estimation step 3: Fitting model\n",
    "for method in [\"GN_CRS2_LM\", \"LN_PRAXIS\", \"SLSQP\"]:\n",
    "    endstate, RSS, flux = model.fitting_flux(method = method, flux = flux)\n",
    "model.show_results([(\"final\", flux[0])]) # Show result"
   ]
  },
  {
   "cell_type": "code",
   "execution_count": 44,
   "metadata": {},
   "outputs": [
    {
     "name": "stdout",
     "output_type": "stream",
     "text": [
      "v3 Lower bondary: 0.02212802104675493 Upper boundary: 98.90486841317767\n"
     ]
    }
   ],
   "source": [
    "# Estimation of 95% CI\n",
    "ci_edge = model.generate_ci_template(targets = [('reaction', \"v3\")])\n",
    "ci = model.search_ci(ci_edge, flux[0], method = 'grid')\n",
    "lb = ci['data'][('reaction', \"v3\")]['lower_boundary']\n",
    "ub = ci['data'][('reaction', \"v3\")]['upper_boundary']\n",
    "print(\"v3\", \"Lower bondary:\",lb, \"Upper boundary:\", ub)"
   ]
  },
  {
   "cell_type": "code",
   "execution_count": null,
   "metadata": {},
   "outputs": [],
   "source": [
    "#Run mfapy code here:"
   ]
  },
  {
   "cell_type": "code",
   "execution_count": null,
   "metadata": {},
   "outputs": [],
   "source": [
    "#Output data code goes here:\n",
    "\n",
    "  # Output fitted metabolic flux into CSV file\n",
    "\n",
    "output_file = input(\"Enter desired name of output .csv file: \")\n",
    "    \n",
    "model.show_results(results, filename = output_file,  checkrss = \"on\", format = \"csv\")\n",
    "    \n",
    "    # Output fitted metabolic flux in console\n",
    "    \n",
    "model.show_results(results,  checkrss = \"on\")\n",
    "    \n",
    "    # Output flux balance of given metabolite\n",
    "    \n",
    "model.show_flux_balance(results, \"Fum\")\n",
    "model.show_flux_balance(results, \"Fum\", filename = \"Explanation_1_13CMFA_metabolite_balance.csv\", format = \"csv\")"
   ]
  },
  {
   "cell_type": "code",
   "execution_count": null,
   "metadata": {},
   "outputs": [],
   "source": []
  }
 ],
 "metadata": {
  "kernelspec": {
   "display_name": "Python 3 (ipykernel)",
   "language": "python",
   "name": "python3"
  },
  "language_info": {
   "codemirror_mode": {
    "name": "ipython",
    "version": 3
   },
   "file_extension": ".py",
   "mimetype": "text/x-python",
   "name": "python",
   "nbconvert_exporter": "python",
   "pygments_lexer": "ipython3",
   "version": "3.7.4"
  }
 },
 "nbformat": 4,
 "nbformat_minor": 4
}
