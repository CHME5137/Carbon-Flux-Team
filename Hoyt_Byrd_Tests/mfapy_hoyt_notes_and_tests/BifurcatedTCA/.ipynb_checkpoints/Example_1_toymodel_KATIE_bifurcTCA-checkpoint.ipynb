{
 "cells": [
  {
   "cell_type": "markdown",
   "metadata": {},
   "source": [
    "## Below is the same code as Example_1_toymodel.py\n",
    "## It is broken out into a Jupyter Notebook "
   ]
  },
  {
   "cell_type": "code",
   "execution_count": 1,
   "metadata": {},
   "outputs": [],
   "source": [
    "import mfapy"
   ]
  },
  {
   "cell_type": "code",
   "execution_count": 4,
   "metadata": {},
   "outputs": [
    {
     "name": "stdout",
     "output_type": "stream",
     "text": [
      "Error!: Metabolite Sucex is not used in the metabolic network, but produced  in reaction(s)  ['v6']\n",
      "There are critical problem(s) in the metabolic model\n"
     ]
    }
   ],
   "source": [
    "# Model construction\n",
    "reactions, reversible, metabolites, fragments\\\n",
    " = mfapy.mfapyio.load_metabolic_model(\"example_1_toymodel_model.txt\")\n",
    "model = mfapy.metabolicmodel.MetabolicModel(reactions, reversible,\\\n",
    " metabolites, fragments)"
   ]
  },
  {
   "cell_type": "code",
   "execution_count": null,
   "metadata": {},
   "outputs": [],
   "source": [
    "# Addition of constraints\n",
    "state = model.load_states(\"Example_1_toymodel_status.csv\", format = 'csv')\n",
    "model.set_constraints_from_state_dict(state)\n",
    "model.update()"
   ]
  },
  {
   "cell_type": "code",
   "execution_count": null,
   "metadata": {},
   "outputs": [],
   "source": [
    "# Generation of CarbonSource instance\n",
    "cs1 = model.generate_carbon_source_template()\n",
    "cs1.set_each_isotopomer('AcCoA', {'#10':0.5})\n",
    "cs2 = model.generate_carbon_source_template()\n",
    "cs2.set_each_isotopomer('AcCoA', {'#11':0.5})"
   ]
  },
  {
   "cell_type": "code",
   "execution_count": null,
   "metadata": {},
   "outputs": [],
   "source": [
    "# Load MDV data\n",
    "mdv1 = model.load_mdv_data(\"Example_1_MDV1.txt\")\n",
    "mdv2 = model.load_mdv_data(\"Example_1_MDV2.txt\")"
   ]
  },
  {
   "cell_type": "code",
   "execution_count": null,
   "metadata": {},
   "outputs": [],
   "source": [
    "# Flux estimation Step 1: Setting experimments\n",
    "model.set_experiment('ex1', mdv1, cs1)\n",
    "model.set_experiment('ex2', mdv2, cs2)"
   ]
  },
  {
   "cell_type": "code",
   "execution_count": null,
   "metadata": {},
   "outputs": [],
   "source": [
    "# Flux estimation step 2: Generation of intical flux vectors\n",
    "endstate, flux = model.generate_initial_states(50, 4, method =\"parallel\")"
   ]
  },
  {
   "cell_type": "code",
   "execution_count": null,
   "metadata": {},
   "outputs": [],
   "source": [
    "# Flux estimation step 3: Fitting model\n",
    "for method in [\"GN_CRS2_LM\", \"LN_PRAXIS\", \"SLSQP\"]:\n",
    "    endstate, RSS, flux = model.fitting_flux(method = method, flux = flux)\n",
    "model.show_results([(\"final\", flux[0])]) # Show result"
   ]
  },
  {
   "cell_type": "code",
   "execution_count": null,
   "metadata": {},
   "outputs": [],
   "source": [
    "# Estimation of 95% CI\n",
    "ci_edge = model.generate_ci_template(targets = [('reaction', \"v3\")])\n",
    "ci = model.search_ci(ci_edge, flux[0], method = 'grid')\n",
    "lb = ci['data'][('reaction', \"v3\")]['lower_boundary']\n",
    "ub = ci['data'][('reaction', \"v3\")]['upper_boundary']\n",
    "print(\"v3\", \"Lower bondary:\",lb, \"Upper boundary:\", ub)\n"
   ]
  },
  {
   "cell_type": "code",
   "execution_count": null,
   "metadata": {},
   "outputs": [],
   "source": []
  }
 ],
 "metadata": {
  "kernelspec": {
   "display_name": "Python 3 (ipykernel)",
   "language": "python",
   "name": "python3"
  },
  "language_info": {
   "codemirror_mode": {
    "name": "ipython",
    "version": 3
   },
   "file_extension": ".py",
   "mimetype": "text/x-python",
   "name": "python",
   "nbconvert_exporter": "python",
   "pygments_lexer": "ipython3",
   "version": "3.7.4"
  }
 },
 "nbformat": 4,
 "nbformat_minor": 4
}
